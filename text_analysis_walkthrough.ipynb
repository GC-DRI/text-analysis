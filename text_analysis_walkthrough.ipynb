{
 "cells": [
  {
   "cell_type": "code",
   "execution_count": 1,
   "metadata": {},
   "outputs": [],
   "source": [
    "import nltk\n",
    "import matplotlib\n",
    "&matplotlib inline"
   ]
  },
  {
   "cell_type": "code",
   "execution_count": 2,
   "metadata": {},
   "outputs": [
    {
     "name": "stdout",
     "output_type": "stream",
     "text": [
      "*** Introductory Examples for the NLTK Book ***\n",
      "Loading text1, ..., text9 and sent1, ..., sent9\n",
      "Type the name of the text or sentence to view it.\n",
      "Type: 'texts()' or 'sents()' to list the materials.\n",
      "text1: Moby Dick by Herman Melville 1851\n",
      "text2: Sense and Sensibility by Jane Austen 1811\n",
      "text3: The Book of Genesis\n",
      "text4: Inaugural Address Corpus\n",
      "text5: Chat Corpus\n",
      "text6: Monty Python and the Holy Grail\n",
      "text7: Wall Street Journal\n",
      "text8: Personals Corpus\n",
      "text9: The Man Who Was Thursday by G . K . Chesterton 1908\n"
     ]
    }
   ],
   "source": [
    "from nltk.book import *"
   ]
  },
  {
   "cell_type": "code",
   "execution_count": 3,
   "metadata": {},
   "outputs": [
    {
     "name": "stdout",
     "output_type": "stream",
     "text": [
      "Displaying 25 of 1226 matches:\n",
      "s , and to teach them by what name a whale - fish is to be called in our tongue\n",
      "t which is not true .\" -- HACKLUYT \" WHALE . ... Sw . and Dan . HVAL . This ani\n",
      "ulted .\" -- WEBSTER ' S DICTIONARY \" WHALE . ... It is more immediately from th\n",
      "ISH . WAL , DUTCH . HWAL , SWEDISH . WHALE , ICELANDIC . WHALE , ENGLISH . BALE\n",
      "HWAL , SWEDISH . WHALE , ICELANDIC . WHALE , ENGLISH . BALEINE , FRENCH . BALLE\n",
      "least , take the higgledy - piggledy whale statements , however authentic , in \n",
      " dreadful gulf of this monster ' s ( whale ' s ) mouth , are immediately lost a\n",
      " patient Job .\" -- RABELAIS . \" This whale ' s liver was two cartloads .\" -- ST\n",
      " Touching that monstrous bulk of the whale or ork we have received nothing cert\n",
      " of oil will be extracted out of one whale .\" -- IBID . \" HISTORY OF LIFE AND D\n",
      "ise .\" -- KING HENRY . \" Very like a whale .\" -- HAMLET . \" Which to secure , n\n",
      "restless paine , Like as the wounded whale to shore flies thro ' the maine .\" -\n",
      ". OF SPERMA CETI AND THE SPERMA CETI WHALE . VIDE HIS V . E . \" Like Spencer ' \n",
      "t had been a sprat in the mouth of a whale .\" -- PILGRIM ' S PROGRESS . \" That \n",
      "EN ' S ANNUS MIRABILIS . \" While the whale is floating at the stern of the ship\n",
      "e ship called The Jonas - in - the - Whale . ... Some say the whale can ' t ope\n",
      " in - the - Whale . ... Some say the whale can ' t open his mouth , but that is\n",
      " masts to see whether they can see a whale , for the first discoverer has a duc\n",
      " for his pains . ... I was told of a whale taken near Shetland , that had above\n",
      "oneers told me that he caught once a whale in Spitzbergen that was white all ov\n",
      "2 , one eighty feet in length of the whale - bone kind came in , which ( as I w\n",
      "n master and kill this Sperma - ceti whale , for I could never hear of any of t\n",
      " . 1729 . \"... and the breath of the whale is frequendy attended with such an i\n",
      "ed with hoops and armed with ribs of whale .\" -- RAPE OF THE LOCK . \" If we com\n",
      "contemptible in the comparison . The whale is doubtless the largest animal in c\n"
     ]
    }
   ],
   "source": [
    "text1.concordance(\"whale\")"
   ]
  },
  {
   "cell_type": "code",
   "execution_count": 4,
   "metadata": {},
   "outputs": [
    {
     "name": "stdout",
     "output_type": "stream",
     "text": [
      "sea man it ship by him hand them whale view ships land me life death\n",
      "water way head nature fear\n"
     ]
    }
   ],
   "source": [
    "text1.similar(\"love\")"
   ]
  },
  {
   "cell_type": "code",
   "execution_count": 5,
   "metadata": {},
   "outputs": [
    {
     "name": "stdout",
     "output_type": "stream",
     "text": [
      "affection sister heart mother time see town life it dear elinor\n",
      "marianne me word family her him do regard head\n"
     ]
    }
   ],
   "source": [
    "text2.similar(\"love\")"
   ]
  },
  {
   "cell_type": "code",
   "execution_count": 6,
   "metadata": {},
   "outputs": [
    {
     "name": "stdout",
     "output_type": "stream",
     "text": [
      "join part hi hey and wb well ty lmao yeah hiya ok oh hello you what\n",
      "yes haha no all\n"
     ]
    }
   ],
   "source": [
    "text5.similar(\"lol\")"
   ]
  },
  {
   "cell_type": "code",
   "execution_count": 7,
   "metadata": {},
   "outputs": [
    {
     "data": {
      "image/png": "[encoded data removed]",
      "text/plain": [
       "<Figure size 432x288 with 1 Axes>"
      ]
     },
     "metadata": {
      "needs_background": "light"
     },
     "output_type": "display_data"
    }
   ],
   "source": [
    "text1.dispersion_plot([\"whale\", \"monster\"])"
   ]
  },
  {
   "cell_type": "code",
   "execution_count": 8,
   "metadata": {},
   "outputs": [
    {
     "data": {
      "image/png": "[encoded data removed]",
      "text/plain": [
       "<Figure size 432x288 with 1 Axes>"
      ]
     },
     "metadata": {
      "needs_background": "light"
     },
     "output_type": "display_data"
    }
   ],
   "source": [
    "text2.dispersion_plot([\"love\", \"marriage\"])"
   ]
  },
  {
   "cell_type": "code",
   "execution_count": 9,
   "metadata": {},
   "outputs": [
    {
     "data": {
      "text/plain": [
       "906"
      ]
     },
     "execution_count": 9,
     "metadata": {},
     "output_type": "execute_result"
    }
   ],
   "source": [
    "text1.count(\"whale\")"
   ]
  },
  {
   "cell_type": "code",
   "execution_count": 10,
   "metadata": {},
   "outputs": [
    {
     "data": {
      "text/plain": [
       "282"
      ]
     },
     "execution_count": 10,
     "metadata": {},
     "output_type": "execute_result"
    }
   ],
   "source": [
    "text1.count(\"Whale\")"
   ]
  },
  {
   "cell_type": "code",
   "execution_count": 11,
   "metadata": {},
   "outputs": [],
   "source": [
    "text1_tokens = []\n",
    "for t in text1:\n",
    "    if t.isalpha():\n",
    "        t = t.lower()\n",
    "        text1_tokens.append(t)"
   ]
  },
  {
   "cell_type": "code",
   "execution_count": 12,
   "metadata": {},
   "outputs": [],
   "source": [
    "text1_tokens= [t.lower() for t in text1 if t.isalpha()]"
   ]
  },
  {
   "cell_type": "code",
   "execution_count": 13,
   "metadata": {},
   "outputs": [
    {
     "data": {
      "text/plain": [
       "218361"
      ]
     },
     "execution_count": 13,
     "metadata": {},
     "output_type": "execute_result"
    }
   ],
   "source": [
    "len(text1_tokens)"
   ]
  },
  {
   "cell_type": "code",
   "execution_count": 14,
   "metadata": {},
   "outputs": [
    {
     "data": {
      "text/plain": [
       "260819"
      ]
     },
     "execution_count": 14,
     "metadata": {},
     "output_type": "execute_result"
    }
   ],
   "source": [
    "len(text1)"
   ]
  },
  {
   "cell_type": "code",
   "execution_count": 15,
   "metadata": {},
   "outputs": [
    {
     "data": {
      "text/plain": [
       "16948"
      ]
     },
     "execution_count": 15,
     "metadata": {},
     "output_type": "execute_result"
    }
   ],
   "source": [
    "len(set(text1_tokens))"
   ]
  },
  {
   "cell_type": "code",
   "execution_count": 16,
   "metadata": {},
   "outputs": [
    {
     "data": {
      "text/plain": [
       "0.07761459234936642"
      ]
     },
     "execution_count": 16,
     "metadata": {},
     "output_type": "execute_result"
    }
   ],
   "source": [
    "len(set(text1_tokens))/len(text1_tokens)"
   ]
  },
  {
   "cell_type": "code",
   "execution_count": 17,
   "metadata": {},
   "outputs": [],
   "source": [
    "text1_slice = text1_tokens[0:10000]"
   ]
  },
  {
   "cell_type": "code",
   "execution_count": 18,
   "metadata": {},
   "outputs": [
    {
     "data": {
      "text/plain": [
       "0.2816"
      ]
     },
     "execution_count": 18,
     "metadata": {},
     "output_type": "execute_result"
    }
   ],
   "source": [
    "len(set(text1_slice)) / len(text1_slice)"
   ]
  },
  {
   "cell_type": "code",
   "execution_count": 19,
   "metadata": {},
   "outputs": [],
   "source": [
    "from nltk.corpus import stopwords"
   ]
  },
  {
   "cell_type": "code",
   "execution_count": 20,
   "metadata": {},
   "outputs": [
    {
     "name": "stdout",
     "output_type": "stream",
     "text": [
      "['i', 'me', 'my', 'myself', 'we', 'our', 'ours', 'ourselves', 'you', \"you're\", \"you've\", \"you'll\", \"you'd\", 'your', 'yours', 'yourself', 'yourselves', 'he', 'him', 'his', 'himself', 'she', \"she's\", 'her', 'hers', 'herself', 'it', \"it's\", 'its', 'itself', 'they', 'them', 'their', 'theirs', 'themselves', 'what', 'which', 'who', 'whom', 'this', 'that', \"that'll\", 'these', 'those', 'am', 'is', 'are', 'was', 'were', 'be', 'been', 'being', 'have', 'has', 'had', 'having', 'do', 'does', 'did', 'doing', 'a', 'an', 'the', 'and', 'but', 'if', 'or', 'because', 'as', 'until', 'while', 'of', 'at', 'by', 'for', 'with', 'about', 'against', 'between', 'into', 'through', 'during', 'before', 'after', 'above', 'below', 'to', 'from', 'up', 'down', 'in', 'out', 'on', 'off', 'over', 'under', 'again', 'further', 'then', 'once', 'here', 'there', 'when', 'where', 'why', 'how', 'all', 'any', 'both', 'each', 'few', 'more', 'most', 'other', 'some', 'such', 'no', 'nor', 'not', 'only', 'own', 'same', 'so', 'than', 'too', 'very', 's', 't', 'can', 'will', 'just', 'don', \"don't\", 'should', \"should've\", 'now', 'd', 'll', 'm', 'o', 're', 've', 'y', 'ain', 'aren', \"aren't\", 'couldn', \"couldn't\", 'didn', \"didn't\", 'doesn', \"doesn't\", 'hadn', \"hadn't\", 'hasn', \"hasn't\", 'haven', \"haven't\", 'isn', \"isn't\", 'ma', 'mightn', \"mightn't\", 'mustn', \"mustn't\", 'needn', \"needn't\", 'shan', \"shan't\", 'shouldn', \"shouldn't\", 'wasn', \"wasn't\", 'weren', \"weren't\", 'won', \"won't\", 'wouldn', \"wouldn't\"]\n"
     ]
    }
   ],
   "source": [
    "stops = stopwords.words('english')\n",
    "print(stops)"
   ]
  },
  {
   "cell_type": "code",
   "execution_count": 21,
   "metadata": {},
   "outputs": [],
   "source": [
    "text1_stops = []\n",
    "for t in text1_tokens:\n",
    "    if t not in stops:\n",
    "        text1_stops.append(t)"
   ]
  },
  {
   "cell_type": "code",
   "execution_count": 22,
   "metadata": {},
   "outputs": [],
   "source": [
    "text1_stops = [t for t in text1_tokens if t not in stops]"
   ]
  },
  {
   "cell_type": "code",
   "execution_count": 23,
   "metadata": {},
   "outputs": [
    {
     "name": "stdout",
     "output_type": "stream",
     "text": [
      "['moby', 'dick', 'herman', 'melville', 'etymology', 'supplied', 'late', 'consumptive', 'usher', 'grammar', 'school', 'pale', 'usher', 'threadbare', 'coat', 'heart', 'body', 'brain', 'see', 'ever', 'dusting', 'old', 'lexicons', 'grammars', 'queer', 'handkerchief', 'mockingly', 'embellished', 'gay', 'flags']\n"
     ]
    }
   ],
   "source": [
    "print(text1_stops[:30])"
   ]
  },
  {
   "cell_type": "code",
   "execution_count": 24,
   "metadata": {},
   "outputs": [
    {
     "data": {
      "text/plain": [
       "110459"
      ]
     },
     "execution_count": 24,
     "metadata": {},
     "output_type": "execute_result"
    }
   ],
   "source": [
    "len(text1_stops)"
   ]
  },
  {
   "cell_type": "code",
   "execution_count": 25,
   "metadata": {},
   "outputs": [
    {
     "data": {
      "text/plain": [
       "16802"
      ]
     },
     "execution_count": 25,
     "metadata": {},
     "output_type": "execute_result"
    }
   ],
   "source": [
    "len(set(text1_stops))"
   ]
  },
  {
   "cell_type": "code",
   "execution_count": 26,
   "metadata": {},
   "outputs": [],
   "source": [
    "from nltk.stem import WordNetLemmatizer\n",
    "wordnet_lemmatizer = WordNetLemmatizer()"
   ]
  },
  {
   "cell_type": "code",
   "execution_count": 27,
   "metadata": {},
   "outputs": [
    {
     "data": {
      "text/plain": [
       "'child'"
      ]
     },
     "execution_count": 27,
     "metadata": {},
     "output_type": "execute_result"
    }
   ],
   "source": [
    "wordnet_lemmatizer.lemmatize(\"children\")"
   ]
  },
  {
   "cell_type": "code",
   "execution_count": 28,
   "metadata": {},
   "outputs": [
    {
     "data": {
      "text/plain": [
       "'better'"
      ]
     },
     "execution_count": 28,
     "metadata": {},
     "output_type": "execute_result"
    }
   ],
   "source": [
    "wordnet_lemmatizer.lemmatize(\"better\")"
   ]
  },
  {
   "cell_type": "code",
   "execution_count": 29,
   "metadata": {},
   "outputs": [
    {
     "data": {
      "text/plain": [
       "'good'"
      ]
     },
     "execution_count": 29,
     "metadata": {},
     "output_type": "execute_result"
    }
   ],
   "source": [
    "wordnet_lemmatizer.lemmatize(\"better\", pos='a')"
   ]
  },
  {
   "cell_type": "code",
   "execution_count": 30,
   "metadata": {},
   "outputs": [],
   "source": [
    "text1_clean = []\n",
    "for t in text1_stops:\n",
    "    t_lem = wordnet_lemmatizer.lemmatize(t)\n",
    "    text1_clean.append(t_lem)"
   ]
  },
  {
   "cell_type": "code",
   "execution_count": 31,
   "metadata": {},
   "outputs": [],
   "source": [
    "text1_clean = [wordnet_lemmatizer.lemmatize(t) for t in text1_stops]"
   ]
  },
  {
   "cell_type": "code",
   "execution_count": 32,
   "metadata": {},
   "outputs": [
    {
     "data": {
      "text/plain": [
       "110459"
      ]
     },
     "execution_count": 32,
     "metadata": {},
     "output_type": "execute_result"
    }
   ],
   "source": [
    "len(text1_clean)"
   ]
  },
  {
   "cell_type": "code",
   "execution_count": 33,
   "metadata": {},
   "outputs": [
    {
     "data": {
      "text/plain": [
       "14750"
      ]
     },
     "execution_count": 33,
     "metadata": {},
     "output_type": "execute_result"
    }
   ],
   "source": [
    "len(set(text1_clean))"
   ]
  },
  {
   "cell_type": "code",
   "execution_count": 34,
   "metadata": {},
   "outputs": [
    {
     "data": {
      "text/plain": [
       "['aback',\n",
       " 'abaft',\n",
       " 'abandon',\n",
       " 'abandoned',\n",
       " 'abandonedly',\n",
       " 'abandonment',\n",
       " 'abased',\n",
       " 'abasement',\n",
       " 'abashed',\n",
       " 'abate',\n",
       " 'abated',\n",
       " 'abatement',\n",
       " 'abating',\n",
       " 'abbreviate',\n",
       " 'abbreviation',\n",
       " 'abeam',\n",
       " 'abed',\n",
       " 'abednego',\n",
       " 'abel',\n",
       " 'abhorred',\n",
       " 'abhorrence',\n",
       " 'abhorrent',\n",
       " 'abhorring',\n",
       " 'abide',\n",
       " 'abided',\n",
       " 'abiding',\n",
       " 'ability',\n",
       " 'abjectly',\n",
       " 'abjectus',\n",
       " 'able']"
      ]
     },
     "execution_count": 34,
     "metadata": {},
     "output_type": "execute_result"
    }
   ],
   "source": [
    "sorted(set(text1_clean))[:30]"
   ]
  },
  {
   "cell_type": "code",
   "execution_count": 35,
   "metadata": {},
   "outputs": [],
   "source": [
    "from nltk.stem import PorterStemmer\n",
    "porter_stemmer = PorterStemmer()"
   ]
  },
  {
   "cell_type": "code",
   "execution_count": 36,
   "metadata": {},
   "outputs": [
    {
     "name": "stdout",
     "output_type": "stream",
     "text": [
      "berri\n"
     ]
    }
   ],
   "source": [
    "print(porter_stemmer.stem('berry'))"
   ]
  },
  {
   "cell_type": "code",
   "execution_count": 37,
   "metadata": {},
   "outputs": [
    {
     "name": "stdout",
     "output_type": "stream",
     "text": [
      "berri\n"
     ]
    }
   ],
   "source": [
    "print(porter_stemmer.stem('berry'))"
   ]
  },
  {
   "cell_type": "code",
   "execution_count": 38,
   "metadata": {},
   "outputs": [
    {
     "name": "stdout",
     "output_type": "stream",
     "text": [
      "berry\n"
     ]
    }
   ],
   "source": [
    "print(wordnet_lemmatizer.lemmatize(\"berry\"))"
   ]
  },
  {
   "cell_type": "code",
   "execution_count": 39,
   "metadata": {},
   "outputs": [
    {
     "name": "stdout",
     "output_type": "stream",
     "text": [
      "berry\n"
     ]
    }
   ],
   "source": [
    "print(wordnet_lemmatizer.lemmatize(\"berry\"))"
   ]
  },
  {
   "cell_type": "code",
   "execution_count": 40,
   "metadata": {},
   "outputs": [
    {
     "name": "stdout",
     "output_type": "stream",
     "text": [
      "abandon\n"
     ]
    }
   ],
   "source": [
    "print(porter_stemmer.stem('abandon'))"
   ]
  },
  {
   "cell_type": "code",
   "execution_count": 41,
   "metadata": {},
   "outputs": [
    {
     "name": "stdout",
     "output_type": "stream",
     "text": [
      "abandon\n"
     ]
    }
   ],
   "source": [
    "print(porter_stemmer.stem('abandoned'))"
   ]
  },
  {
   "cell_type": "code",
   "execution_count": 42,
   "metadata": {},
   "outputs": [
    {
     "name": "stdout",
     "output_type": "stream",
     "text": [
      "abandonedli\n"
     ]
    }
   ],
   "source": [
    "print(porter_stemmer.stem('abandonedly'))"
   ]
  },
  {
   "cell_type": "code",
   "execution_count": 43,
   "metadata": {},
   "outputs": [
    {
     "name": "stdout",
     "output_type": "stream",
     "text": [
      "abandon\n"
     ]
    }
   ],
   "source": [
    "print(porter_stemmer.stem('abandonment'))"
   ]
  },
  {
   "cell_type": "code",
   "execution_count": 44,
   "metadata": {},
   "outputs": [],
   "source": [
    "t1_porter = []\n",
    "for t in text1_clean:\n",
    "    t_stemmed = porter_stemmer.stem(t)\n",
    "    t1_porter.append(t_stemmed)"
   ]
  },
  {
   "cell_type": "code",
   "execution_count": 45,
   "metadata": {},
   "outputs": [],
   "source": [
    "t1_porter = [porter_stemmer.stem(t) for t in text1_tokens]"
   ]
  },
  {
   "cell_type": "code",
   "execution_count": 46,
   "metadata": {},
   "outputs": [
    {
     "name": "stdout",
     "output_type": "stream",
     "text": [
      "10644\n"
     ]
    }
   ],
   "source": [
    "print(len(set(t1_porter)))"
   ]
  },
  {
   "cell_type": "code",
   "execution_count": 47,
   "metadata": {},
   "outputs": [
    {
     "name": "stdout",
     "output_type": "stream",
     "text": [
      "['a', 'aback', 'abaft', 'abandon', 'abandonedli', 'abas', 'abash', 'abat', 'abbrevi', 'abe', 'abeam', 'abednego', 'abel', 'abhor', 'abhorr', 'abid', 'abil', 'abjectli', 'abjectu', 'abl', 'ablut', 'aboard', 'abod', 'abomin', 'aborigin', 'abort', 'abound', 'aboundingli', 'about', 'abov', 'abraham', 'abreast', 'abridg', 'abroad', 'abruptli', 'absenc', 'absent', 'absolut', 'absorb', 'absorbingli', 'abstain', 'abstemi', 'abstin', 'abstract', 'absurd', 'absurdli', 'abund', 'abundantli', 'academi', 'acceler', 'accept', 'access', 'accessori', 'accid', 'accident', 'accommod', 'accompani', 'accomplish', 'accord', 'accordingli', 'accost', 'account', 'accumul', 'accur', 'accuraci', 'accurs', 'accustom', 'acerb', 'ach', 'achiev', 'achil', 'acknowledg', 'acquaint', 'acquiesc', 'acquir', 'acr', 'acrid', 'across', 'act', 'actest', 'action', 'actium', 'activ', 'actual', 'actuat', 'acushnet', 'acut', 'ad', 'adam', 'adamit', 'adapt', 'add', 'addit', 'address', 'adequ', 'adher', 'adhes', 'adieu', 'adieux', 'adio', 'adjac', 'adjoin', 'adjust', 'admeasur', 'administ', 'admir', 'admit', 'admonish', 'admonit', 'admonitori', 'ado', 'adolesc', 'adopt', 'ador', 'adorn', 'adown', 'adrift', 'adroit', 'adroitli', 'adroop', 'adult', 'adulter', 'advanc', 'advantag', 'advent', 'adventur', 'advers', 'advert', 'advertis', 'advic', 'advis', 'advoc', 'aerat', 'aesthet', 'afar', 'affair', 'affect', 'affection', 'affghanistan', 'affidavit', 'affin', 'affirm', 'affix', 'afflict', 'affluent', 'afford', 'affright', 'affront', 'afir', 'afloat', 'afoam', 'afor', 'aforesaid', 'aforethought', 'afoul', 'afraid', 'afresh', 'afric', 'africa', 'african', 'aft', 'after', 'afternoon', 'afterward', 'again', 'against', 'agassiz', 'age', 'agenc', 'agent', 'aggrav', 'aggreg', 'aggriev', 'aghast', 'agil', 'agit', 'aglow', 'ago', 'agon', 'agoni', 'agonizingli', 'agrarian', 'agre', 'agreeabl', 'aground', 'agu', 'ah', 'ahab', 'ahasueru', 'ahaz', 'ahead', 'ahoy', 'aid', 'ail', 'aim', 'aimlessli', 'ain', 'aint', 'air', 'airley', 'airth', 'aisl', 'ajar', 'akin', 'ala', 'alabama', 'aladdin', 'alarm', 'alb', 'albatross', 'albemarl', 'albert', 'albicor', 'albino', 'alcov', 'aldermen', 'aldrovandi', 'aldrovandu', 'ale', 'aleak', 'alert', 'alew', 'alexand', 'alfr', 'algerin', 'algier', 'alien', 'alight', 'alik', 'aliment', 'aliv', 'all', 'allay', 'alleg', 'alleghani', 'alleghanian', 'allegi', 'allegor', 'allegori', 'alley', 'alli', 'allot', 'allow', 'allud', 'allur', 'alluringli', 'allus', 'alm', 'almanac', 'almanack', 'almighti', 'almost', 'aloft', 'alon', 'along', 'alongsid', 'aloof', 'aloud', 'alow', 'alp', 'alpaca', 'alpin', 'alreadi', 'also', 'altar', 'alter', 'altern', 'although', 'altitud', 'altogeth', 'alway', 'am', 'amain', 'amaz', 'amazingli', 'amber', 'ambergri', 'ambergries', 'ambigu', 'ambit', 'ambiti', 'amelia', 'amen', 'amend', 'america', 'american', 'amid', 'amidst', 'amittai', 'among', 'amongst', 'amor', 'amount', 'amour', 'amphibi', 'amphitheatr', 'ampl', 'amplifi', 'amput', 'amsterdam', 'amuck', 'amus', 'an', 'anacharsi', 'anaconda', 'anak', 'analog', 'analys', 'analysi', 'analyt', 'anathema', 'anatom', 'anatomi', 'anatomist', 'ancestor', 'ancestress', 'ancestri', 'anchor', 'ancient', 'ancientest', 'and', 'andiron', 'andrew', 'andromeda', 'anew', 'angel', 'angelo', 'anger', 'angl', 'anglo', 'angri', 'angrili', 'anguish', 'angular', 'angularli', 'ani', 'anim', 'animos', 'anker', 'ankl', 'ann', 'annal', 'annawon', 'annihil', 'anno', 'announc', 'annu', 'annual', 'annuit', 'anoint', 'anomal', 'anomali', 'anon', 'anonym', 'anoth', 'answer', 'ant', 'antagonist', 'antarct', 'anteced', 'antediluvian', 'antelop', 'antemosa', 'anti', 'antic', 'antichron', 'anticip', 'anticipatingli', 'antidot', 'antil', 'antiochu', 'antiqu', 'antler', 'antoni', 'antwerp', 'anu', 'anvil', 'anxieti', 'anxiou', 'anybodi', 'anyhow', 'anyon', 'anyth', 'anyway', 'anywher', 'aorta', 'apart', 'ape', 'apeak', 'apertur', 'apex', 'apollo', 'apolog', 'apoplect', 'apoplexi', 'apostol', 'apothecari', 'apotheosi', 'appal', 'appallingli', 'appar', 'apparatu', 'apparel', 'apparit', 'appeal', 'appear', 'appel', 'append', 'appendag', 'appetit', 'appl', 'appli', 'applianc', 'applic', 'appoint', 'apport', 'appreci', 'apprehens', 'appris', 'approach', 'appropri', 'approv', 'approvingli', 'approxim', 'apricot', 'april', 'apron', 'apt', 'aptitud', 'aquariu', 'arbitrari', 'arbor', 'arbour', 'arc', 'arch', 'archaeolog', 'archaeologist', 'archangel', 'archbishop', 'archbishopr', 'archer', 'archi', 'archiepiscopaci', 'archipelago', 'architect', 'architectur', 'arctic', 'ardour', 'are', 'area', 'arethusa', 'argo', 'argosi', 'argu', 'argument', 'ari', 'arid', 'aright', 'arion', 'aris', 'arisen', 'aristotl', 'arithmet', 'ark', 'arkansa', 'arkit', 'arm', 'armada', 'armi', 'armor', 'arnold', 'aroma', 'aromat', 'aroostook', 'aros', 'around', 'arpen', 'arrah', 'arrang', 'arrant', 'arrantest', 'array', 'arrest', 'arriv', 'arrog', 'arrow', 'arrowi', 'arsacid', 'arsacidean', 'art', 'artedi', 'arter', 'arteri', 'articl', 'articul', 'artifici', 'artisan', 'artist', 'as', 'asa', 'ascend', 'ascertain', 'ascrib', 'ascript', 'ash', 'ashante', 'ashor', 'asia', 'asiat', 'asid', 'ask', 'askanc', 'aslant', 'asleep', 'aslop', 'aspect', 'aspers', 'asphalt', 'asphaltit', 'aspir', 'ass', 'assail', 'assassin', 'assault', 'assembl', 'assent', 'assert', 'assign', 'assist', 'associ', 'assuag', 'assum', 'assumpt', 'assur', 'assuredli', 'assyrian', 'astern', 'astir', 'astonish', 'astral', 'astrolog', 'astronom', 'astronomi', 'asund', 'asylum', 'at', 'ate', 'atheism', 'atheist', 'athirst', 'athlet', 'athwartship', 'atlant', 'atmospher', 'atom', 'atroci', 'attach', 'attack', 'attain', 'attar', 'attempt', 'attend', 'attent', 'attenu', 'attest', 'attic', 'attitud', 'attract', 'attribut', 'attun', 'auction', 'audac', 'audaci', 'audibl', 'auger', 'aught', 'augment', 'august', 'aunt', 'auspic', 'auster', 'australia', 'australian', 'austrian', 'authent', 'author', 'authorit', 'auto', 'automaton', 'autumn', 'auxiliari', 'avail', 'avast', 'avatar', 'aveng', 'avenu', 'aver', 'averag', 'avers', 'avert', 'avoc', 'avoid', 'aw', 'await', 'awak', 'awaken', 'awar', 'award', 'away', 'awe', 'awestruck', 'awhil', 'awkward', 'awl', 'awok', 'awri', 'axe', 'axi', 'axl', 'ay', 'aye', 'azimuth', 'azor', 'azur', 'babbl', 'babe', 'babel', 'babi', 'baboon', 'babyish', 'babylon', 'babylonian', 'bachelor', 'back', 'backbon', 'background', 'backstay', 'backward', 'backwardli', 'backwood', 'backwoodsman', 'bacon', 'bad', 'bade', 'baden', 'badg', 'badger', 'badli', 'baffl', 'bag', 'baggag', 'bailer', 'bailiff', 'bait', 'bake', 'baker', 'balaen', 'balanc', 'bald', 'bale', 'baleen', 'balein', 'balena', 'balien', 'ball', 'ballast', 'ballena', 'balli', 'balloon', 'ballroom', 'balm', 'balmi', 'baltic', 'baltimor', 'bamboo', 'bamboozingli', 'bamboozl', 'ban', 'band', 'bandag', 'bandana', 'bandbox', 'bandi', 'bang', 'banish', 'banist', 'bank', 'banker', 'bankrupt', 'banner', 'bannist', 'banquet', 'bantam', 'banter', 'banteringli', 'baptis', 'baptism', 'baptiz', 'baptizo', 'bar', 'barb', 'barbacu', 'barbar', 'barbari', 'barbarian', 'barbecu', 'barber', 'bare', 'barest', 'barg', 'bargain', 'bark', 'barn', 'barnacl', 'baromet', 'baron', 'baroni', 'barqu', 'barrel', 'barren', 'barricad', 'barrier', 'barrow', 'barter', 'bartholomew', 'base', 'basement', 'baser', 'bash', 'bashaw', 'bashe', 'basi', 'basilosauru', 'basin', 'bask', 'basket', 'bass', 'basso', 'bastil', 'bastion', 'bat', 'bath', 'baton', 'battalion', 'batten', 'batter', 'batteri', 'battl', 'baulk', 'bawl', 'bay', 'bayonet', 'be', 'beach', 'beacon', 'bead', 'beadl', 'beak', 'beaker', 'beal', 'beam', 'bear', 'beard', 'bearer', 'bearskin', 'beast', 'beat', 'beaten', 'beater', 'beauti', 'beaver', 'becalm', 'becam', 'becaus', 'becharm', 'becket', 'beckon', 'becom', 'bed', 'bedarn', 'bedeaden', 'bedevil', 'bedfellow', 'bedford', 'bedraggl', 'bedroom', 'bedsid', 'bedstead', 'bedward', 'bee', 'beech', 'beef', 'beefsteak', 'beehiv', 'beelzebub', 'been', 'beer', 'befal', 'befallen', 'befel', 'befog', 'befool', 'befor', 'befriend', 'beg', 'began', 'begat', 'beget', 'beggar', 'begin', 'beginn', 'begon', 'begotten', 'begrim', 'begun', 'behalf', 'behavior', 'behead', 'beheld', 'behind', 'behold', 'beholdest', 'behoov', 'behr', 'bejuggl', 'belat', 'belay', 'belfast', 'belfri', 'beli', 'belial', 'belief', 'beliest', 'believ', 'belik', 'belisariu', 'bell', 'belli', 'bellow', 'belong', 'belongest', 'belov', 'below', 'belshazzar', 'belt', 'belub', 'bench', 'bend', 'bendigo', 'beneath', 'benedict', 'benefit', 'benevol', 'bengal', 'benign', 'benjamin', 'bennett', 'bent', 'bentham', 'bepatch', 'bequeath', 'berg', 'berkshir', 'berlin', 'bermuda', 'bernard', 'berri', 'berth', 'beseech', 'beset', 'besid', 'besieg', 'besmok', 'besoot', 'bespatt', 'bespeak', 'bess', 'best', 'bestir', 'bestow', 'bestreak', 'bet', 'betak', 'betaken', 'bethink', 'bethought', 'betoken', 'betray', 'better', 'betti', 'between', 'beverag', 'bevi', 'bewar', 'bewild', 'bewitch', 'beyond', 'bias', 'bibl', 'bibliograph', 'bid', 'bidden', 'bier', 'big', 'bigamist', 'bigger', 'biggest', 'bigot', 'bigotri', 'bildad', 'biliou', 'bill', 'billet', 'billiard', 'billion', 'billow', 'bilocular', 'bind', 'binder', 'binnacl', 'biograph', 'biographi', 'bipe', 'birch', 'bird', 'birmah', 'birth', 'birthmark', 'biscuit', 'bishop', 'bison', 'bit', 'bite', 'bitin', 'bitingli', 'bitt', 'bitter', 'bitterest', 'bitterli', 'bivouack', 'black', 'blackberri', 'blacken', 'blackest', 'blackish', 'blackl', 'blacksmith', 'blackston', 'bladder', 'blade', 'blame', 'blameworthi', 'blanc', 'blanch', 'blanco', 'bland', 'blandish', 'blang', 'blank', 'blanket', 'blasphem', 'blasphemi', 'blast', 'blaze', 'bleach', 'bleak', 'bled', 'bleed', 'blemish', 'blend', 'blent', 'bless', 'blew', 'blight', 'blind', 'blindest', 'blindfold', 'blindli', 'bliss', 'blister', 'blisteringli', 'blith', 'bloat', 'block', 'blockhead', 'blocksburg', 'blood', 'bloodi', 'bloodiest', 'bloodsh', 'bloodshot', 'bloodthirsti', 'bloom', 'blossom', 'blot', 'blow', 'blown', 'blubber', 'blue', 'blueness', 'bluer', 'bluff', 'bluish', 'blunder', 'blunt', 'bluntli', 'blur', 'blush', 'bluster', 'bo', 'boa', 'board', 'boarder', 'boast', 'boat', 'boathead', 'boatmen', 'boatswain', 'bob', 'bode', 'bodi', 'bodic', 'bodiless', 'bodili', 'boggi', 'boil', 'boiler', 'boister', 'bold', 'bolder', 'boldest', 'boldli', 'bolivia', 'bolster', 'bolt', 'bomb', 'bombay', 'bombazin', 'bonapart', 'bond', 'bondsman', 'bone', 'boneless', 'boni', 'bonnet', 'bonneterr', 'boobi', 'boobl', 'book', 'bookbind', 'boom', 'boomer', 'boon', 'boot', 'boozi', 'bordeaux', 'border', 'bore', 'borean', 'born', 'borneo', 'borrow', 'boski', 'bosom', 'boston', 'both', 'bottl', 'bottom', 'bottomless', 'bough', 'bought', 'bounc', 'bound', 'boundari', 'bounder', 'boundless', 'bounteou', 'bounti', 'bourbon', 'bout', 'bouton', 'bow', 'bowditch', 'bowel', 'bower', 'bowi', 'bowl', 'bowlin', 'bowsman', 'bowsmen', 'bowsprit', 'bowstr', 'box', 'boy', 'boyhood', 'brace', 'brack', 'brackish', 'bracton', 'brag', 'brahma', 'brahmin', 'braid', 'brain', 'branch', 'brand', 'brandi', 'brandreth', 'brass', 'brat', 'bravado', 'brave', 'braver', 'braveri', 'bravest', 'brawler', 'brawn', 'brawni', 'brazen', 'brazil', 'breach', 'bread', 'breadfruit', 'breadth', 'break', 'breaker', 'breakfast', 'breakwat', 'breast', 'breastband', 'breath', 'breathest', 'breathless', 'breathlessli', 'bred', 'breech', 'breed', 'breedeth', 'breez', 'breezeless', 'breezi', 'bremen', 'bress', 'brevet', 'breviti', 'brew', 'breweri', 'brick', 'bridal', 'bride', 'bridegroom', 'bridg', 'bridl', 'brief', 'briefli', 'brig', 'brigandish', 'brigger', 'brighggian', 'bright', 'brighter', 'brightest', 'brillianc', 'brilliant', 'brim', 'brimmer', 'brimston', 'brindl', 'brine', 'bring', 'brisk', 'brisson', 'bristl', 'brit', 'britain', 'british', 'briton', 'brittl', 'broad', 'broadli', 'broadway', 'broider', 'broil', 'broke', 'broken', 'brokenli', 'broker', 'bronz', 'brood', 'brook', 'broom', 'brother', 'brotherhood', 'brotherli', 'brought', 'brow', 'brown', 'brows', 'bruis', 'bruit', 'brunt', 'brush', 'brushwood', 'brutal', 'brute', 'bubbl', 'bubblingli', 'buck', 'bucket', 'buckl', 'buckler', 'buckskin', 'bud', 'budg', 'buffalo', 'bugbear', 'build', 'builder', 'built', 'bulb', 'bulbou', 'bulg', 'bulk', 'bulkhead', 'bulki', 'bulkington', 'bull', 'bullet', 'bulli', 'bullock', 'bulwark', 'bump', 'bumper', 'bumpkin', 'bunch', 'bundl', 'bung', 'bunger', 'bungl', 'bunk', 'bunt', 'bunyan', 'buoy', 'buoyanc', 'buoyant', 'buoyantli', 'burden', 'burgher', 'burglar', 'burglari', 'buri', 'burial', 'burk', 'burli', 'burn', 'burnish', 'burnt', 'burrow', 'burst', 'burstingli', 'burton', 'bush', 'bushel', 'bushi', 'busi', 'busili', 'busk', 'bust', 'bustl', 'but', 'butcher', 'butler', 'butt', 'butter', 'butterfli', 'butteri', 'butterless', 'button', 'buttress', 'buy', 'by', 'bye', 'bystand', 'byward', 'c', 'cabaco', 'cabalist', 'cabin', 'cabinet', 'cabl', 'cachalot', 'caddi', 'cadenc', 'cadiz', 'caesar', 'caesarian', 'cage', 'cain', 'cajol', 'cake', 'calabash', 'calai', 'calam', 'calcul', 'calendar', 'calf', 'californian', 'call', 'callao', 'callest', 'calm', 'calmli', 'calomel', 'calv', 'cambric', 'cambys', 'came', 'camel', 'campagna', 'campaign', 'camphor', 'can', 'canaan', 'canada', 'canadian', 'canakin', 'canal', 'canari', 'cancer', 'candelabra', 'candi', 'candid', 'candl', 'cane', 'canker', 'canni', 'cannib', 'cannibalist', 'cannikin', 'cannon', 'cannot', 'cano', 'canon', 'canopi', 'canst', 'cant', 'canterburi', 'canticl', 'canva', 'cap', 'capabl', 'capac', 'capaci', 'cape', 'caper', 'capit', 'capric', 'caprici', 'capricornu', 'capsiz', 'capstan', 'capt', 'captain', 'captiv', 'captor', 'captur', 'caput', 'car', 'caramba', 'caravan', 'carcas', 'carcass', 'card', 'cardin', 'care', 'careen', 'career', 'careless', 'carelessli', 'caress', 'carey', 'cargo', 'cark', 'carlin', 'carnat', 'carnivor', 'carpent', 'carpet', 'carri', 'carriag', 'carrion', 'carrol', 'carson', 'cart', 'carthag', 'cartload', 'cartridg', 'carv', 'caryatid', 'cascad', 'case', 'casement', 'cash', 'cashier', 'cask', 'casket', 'cassock', 'cast', 'castaway', 'castl', 'castor', 'casual', 'casualti', 'cat', 'catacomb', 'catalogu', 'cataract', 'catarrh', 'catastroph', 'catch', 'catcher', 'categut', 'caterpillar', 'cathedr', 'cathol', 'cato', 'catskil', 'cattegat', 'cattl', 'caudam', 'caught', 'caulk', 'caus', 'caution', 'cautiou', 'cautious', 'cavali', 'cave', 'cavern', 'caviti', 'caw', 'ceas', 'ceaseless', 'cedar', 'ceil', 'celebr', 'celer', 'celesti', 'cell', 'cellar', 'cellini', 'cemeteri', 'cenotaph', 'censu', 'cent', 'centaur', 'centiped', 'centr', 'central', 'centrepiec', 'centuri', 'cerebellum', 'ceremoni', 'certain', 'certainli', 'certainti', 'cervant', 'cetacea', 'cetacean', 'ceti', 'cetolog', 'cetu', 'ceylon', 'chace', 'chafe', 'chain', 'chair', 'chalde', 'chalic', 'chalk', 'challeng', 'chamber', 'chamoi', 'champ', 'champagn', 'champion', 'champollion', 'chanc', 'chanceri', 'chang', 'changeless', 'channel', 'chao', 'chaotic', 'chap', 'chapel', 'chaplain', 'chapter', 'charact', 'character', 'characterist', 'charcoal', 'chare', 'charg', 'charger', 'chariot', 'charit', 'chariti', 'charl', 'charlemagn', 'charley', 'charm', 'charmingli', 'charnel', 'chart', 'charter', 'chase', 'chasm', 'chasse', 'chast', 'chastis', 'chat', 'chatter', 'cheap', 'cheapest', 'cheapli', 'cheat', 'check', 'checker', 'cheek', 'cheer', 'cheeri', 'cheeriest', 'cheerili', 'cheerless', 'cheerli', 'chees', 'cheeseri', 'cheever', 'chemistri', 'cherish', 'cherri', 'cherubim', 'chess', 'chest', 'chestnut', 'chew', 'chicha', 'chick', 'chicken', 'chief', 'chiefli', 'child', 'childhood', 'childish', 'childless', 'children', 'chili', 'chilian', 'chill', 'chilli', 'chime', 'chimney', 'chin', 'china', 'chines', 'chink', 'chip', 'chirographi', 'chisel', 'chivalr', 'chock', 'choic', 'choke', 'cholera', 'cholo', 'choos', 'chop', 'choru', 'chose', 'chosen', 'chowder', 'christ', 'christen', 'christendom', 'christian', 'christma', 'chronic', 'chronicl', 'chronomet', 'chrysali', 'chuck', 'chuckl', 'chum', 'church', 'churchyard', 'churn', 'cibil', 'cigar', 'cinder', 'cinnamon', 'cinqu', 'cipher', 'circassian', 'circl', 'circu', 'circuit', 'circul', 'circular', 'circumambi', 'circumambul', 'circumfer', 'circumnavig', 'circumpolar', 'circumspect', 'circumspectli', 'circumst', 'circumstanc', 'circumstanti', 'circumv', 'circumvent', 'cistern', 'citadel', 'citat', 'cite', 'citi', 'citron', 'civil', 'civilli', 'civita', 'clad', 'claim', 'clam', 'clamber', 'clammi', 'clamor', 'clamp', 'clan', 'clang', 'clank', 'clap', 'clapt', 'claret', 'clash', 'clasp', 'class', 'classic', 'classif', 'classifi', 'clatter', 'clau', 'claw', 'clay', 'clayey', 'clean', 'cleanliest', 'cleans', 'clear', 'clearer', 'clearest', 'clearli', 'cleat', 'cleav', 'cleet', 'cleft', 'clench', 'cleopatra', 'clergi', 'clergyman', 'cleric', 'cleveland', 'clever', 'clew', 'click', 'cliff', 'clifford', 'climat', 'climax', 'climb', 'clime', 'clinch', 'cling', 'clingest', 'clink', 'clip', 'cloak', 'clock', 'clog', 'cloister', 'clootz', 'close', 'closer', 'closet', 'clot', 'cloth', 'cloud', 'cloudi', 'cloudless', 'clout', 'clove', 'cloven', 'clover', 'club', 'clue', 'clump', 'clumsi', 'clumsiest', 'clumsili', 'clung', 'cluni', 'cluster', 'clutch', 'co', 'coach', 'coal', 'coalesc', 'coars', 'coast', 'coat', 'coax', 'cob', 'cobbl', 'cobbler', 'cobbleston', 'cobweb', 'cock', 'cockatoo', 'cockpit', 'cocoa', 'cocoanut', 'cod', 'code', 'codfish', 'coenti', 'coerc', 'coffe', 'coffer', 'coffin', 'cog', 'cogent', 'cognac', 'cognis', 'coher', 'cohort', 'coil', 'coin', 'coincid', 'coke', 'cold', 'colder', 'coleman', 'coleridg', 'colic', 'coll', 'collaps', 'collar', 'collat', 'collater', 'collect', 'collected', 'colleg', 'collegian', 'collis', 'colnett', 'cologn', 'coloni', 'colonnad', 'coloss', 'colossu', 'colour', 'colourless', 'colt', 'columbu', 'column', 'comb', 'combat', 'comber', 'combin', 'combinedli', 'come', 'comedi', 'comest', 'comet', 'cometh', 'comfort', 'comic', 'command', 'commandingli', 'commenc', 'commend', 'comment', 'commentari', 'commerc', 'commerci', 'commiss', 'commit', 'commodor', 'common', 'commonalti', 'commonest', 'commonli', 'commonplac', 'commonwealth', 'commot', 'commun', 'communion', 'compact', 'compani', 'companion', 'companionship', 'companionway', 'compar', 'comparison', 'compass', 'compendi', 'compens', 'compet', 'compil', 'complac', 'complain', 'complaint', 'complement', 'complet', 'complexion', 'compli', 'complianc', 'complic', 'compliment', 'complimentari', 'comport', 'compos', 'compound', 'comprehend', 'comprehens', 'compress', 'compris', 'compunct', 'comput', 'comrad', 'comstock', 'con', 'conceal', 'conced', 'conceit', 'conceiv', 'concentr', 'concept', 'concern', 'concert', 'concili', 'conclud', 'conclus', 'concoct', 'concret', 'concubin', 'concur', 'concuss', 'condemn', 'condens', 'condescend', 'condescens', 'condit', 'condor', 'conduct', 'conductor', 'conduit', 'cone', 'confabul', 'confeder', 'confess', 'confid', 'confidenti', 'confin', 'confirm', 'conflagr', 'conflict', 'confluent', 'confound', 'confoundedli', 'confront', 'confus', 'congeal', 'congeni', 'congo', 'congratul', 'congreg', 'conic', 'conjectur', 'conjoin', 'conjunctur', 'conjur', 'conjuror', 'connect', 'connecticut', 'connexion', 'conquer', 'conquest', 'conscienc', 'conscienti', 'consciou', 'conscious', 'consecr', 'consecut', 'consent', 'consequ', 'conservatori', 'consid', 'consider', 'consign', 'consist', 'consol', 'consolatori', 'consort', 'conspicu', 'conspir', 'constabl', 'constant', 'constantin', 'constantinopl', 'constantli', 'constel', 'constern', 'constitu', 'constitut', 'constrain', 'constraint', 'construct', 'consult', 'consum', 'consumpt', 'contact', 'contain', 'contempl', 'contemporari', 'contempt', 'contemptu', 'contend', 'content', 'contentedli', 'contest', 'context', 'contigu', 'contin', 'continent', 'conting', 'continu', 'contort', 'contour', 'contraband', 'contract', 'contradict', 'contradictori', 'contrari', 'contrast', 'contrastingli', 'contribut', 'contributori', 'contriv', 'control', 'controversi', 'controvert', 'contus', 'convalesc', 'conveni', 'convent', 'convers', 'convert', 'convex', 'convey', 'convict', 'convinc', 'convivi', 'convolut', 'convuls', 'cook', 'cool', 'cooler', 'coolli', 'cooper', 'coopman', 'cope', 'copenhagen', 'copeston', 'copi', 'copper', 'coral', 'cord', 'cordag', 'cordial', 'cordon', 'core', 'corinthian', 'cork', 'corki', 'corkscrew', 'corlaer', 'corlear', 'corn', 'corner', 'coron', 'corpor', 'corps', 'corpul', 'corpus', 'correct', 'correctli', 'correspond', 'corridor', 'corrobor', 'corrod', 'corrupt', 'corsair', 'cosi', 'cosmet', 'cosmopolit', 'cost', 'costermong', 'costli', 'costliest', 'costum', 'cottag', 'cotton', 'couch', 'cougar', 'cough', 'could', 'couldn', 'couldst', 'counsel', 'counsellor', 'count', 'counten', 'counter', 'counteract', 'counterbal', 'counterfeit', 'counterpan', 'counterpart', 'counterpois', 'countersink', 'countersunk', 'counti', 'countless', 'countri', 'countryman', 'countrymen', 'coupl', 'courag', 'courier', 'cours', 'court', 'courteou', 'courteous', 'courtesi', 'cousin', 'cove', 'coven', 'cover', 'coverlid', 'cow', 'coward', 'cowardli', 'cowhid', 'cowley', 'cowper', 'coy', 'cozen', 'crab', 'crack', 'cracker', 'crackest', 'crackl', 'cradl', 'craft', 'crafti', 'crag', 'craggi', 'cram', 'crammer', 'cramp', 'crane', 'cranial', 'cranium', 'cranni', 'crape', 'crappo', 'crash', 'crater', 'crave', 'craven', 'crawl', 'craze', 'crazi', 'creagh', 'creak', 'cream', 'creami', 'creat', 'creation', 'creativ', 'creatur', 'credenti', 'credibl', 'credit', 'creditor', 'credul', 'creed', 'creep', 'creepingli', 'crept', 'crescent', 'crest', 'cretan', 'crete', 'crew', 'cri', 'crick', 'cricket', 'crier', 'crim', 'crime', 'crimin', 'crimson', 'cring', 'crippl', 'crish', 'crisi', 'crisp', 'criterion', 'critic', 'critter', 'crockeri', 'crockett', 'crocodil', 'croni', 'crook', 'crooked', 'crookedli', 'crop', 'cross', 'crosslight', 'crosswis', 'crotch', 'crotchet', 'crouch', 'crow', 'crowd', 'crown', 'crozett', 'crucibl', 'crucifi', 'crucifix', 'crucifixion', 'cruel', 'cruellest', 'cruelti', 'cruet', 'cruis', 'cruiser', 'cruiz', 'crumb', 'crumpl', 'crunch', 'crupper', 'crusad', 'crush', 'crust', 'crutch', 'crystal', 'crystallin', 'cub', 'cuba', 'cubic', 'cucumb', 'cudgel', 'cuff', 'cullest', 'cultiv', 'cultur', 'cumbrou', 'cun', 'cunningli', 'cup', 'cupbear', 'cupid', 'cupola', 'curb', 'curbston', 'curd', 'curdl', 'cure', 'curio', 'curios', 'curiou', 'curious', 'curl', 'curli', 'current', 'curs', 'cursorili', 'curtain', 'curv', 'curvet', 'curvicu', 'cushion', 'cuss', 'custom', 'customari', 'cut', 'cutlass', 'cutleri', 'cutlet', 'cutter', 'cuttl', 'cuvier', 'cyclad', 'cycloid', 'cylind', 'cylindr', 'cymbal', 'cynic', 'cypher', 'czar', 'czarship', 'd', 'da', 'dab', 'dabol', 'dad', 'daft', 'dagger', 'daggoo', 'dagon', 'daili', 'dainti', 'daintiest', 'dairi', 'dale', 'dalli', 'dallianc', 'dam', 'damag', 'dame', 'damn', 'damndest', 'damocl', 'damp', 'dampier', 'dampli', 'damsel', 'dan', 'danc', 'dandi', 'dane', 'danger', 'dangl', 'daniel', 'danish', 'dant', 'dantean', 'dar', 'darbi', 'dardanel', 'dare', 'daresn', 'darien', 'dark', 'darken', 'darker', 'darkey', 'darkl', 'darkli', 'darmonod', 'dart', 'dartingli', 'darwin', 'dash', 'dat', 'date', 'daughter', 'daunt', 'dauntless', 'dauphin', 'daven', 'davi', 'dawn', 'day', 'daybreak', 'daylight', 'daze', 'dazzl', 'dazzlingli', 'de', 'deacon', 'dead', 'deaden', 'deadli', 'deadliest', 'deadreckon', 'deaf', 'deafen', 'deal', 'dealer', 'dear', 'dearest', 'dearli', 'death', 'debel', 'debtor', 'decant', 'decapit', 'decay', 'deceas', 'deceit', 'deceiv', 'decemb', 'decenc', 'decent', 'decept', 'decid', 'decidedli', 'deciph', 'decis', 'deck', 'declar', 'declin', 'decoct', 'decor', 'decre', 'dedic', 'deduct', 'deed', 'deem', 'deep', 'deepen', 'deepeningli', 'deeper', 'deepest', 'deepli', 'deer', 'defac', 'defect', 'defenc', 'defend', 'deferenti', 'defi', 'defianc', 'defici', 'defil', 'defin', 'definit', 'deform', 'defray', 'deftli', 'defunct', 'defyingli', 'degener', 'degre', 'deifi', 'deiti', 'deject', 'del', 'delay', 'delect', 'deleg', 'deliber', 'delic', 'delicaci', 'delici', 'delight', 'delin', 'deliri', 'delirium', 'deliv', 'deliver', 'deliveri', 'delta', 'delud', 'delug', 'delus', 'demand', 'demeanor', 'demi', 'demigod', 'demigorgon', 'demijohn', 'democraci', 'democrat', 'demon', 'demoniac', 'demonstr', 'demselv', 'den', 'denderah', 'deni', 'denial', 'denizen', 'denomin', 'denot', 'dens', 'densiti', 'dent', 'dention', 'dentist', 'denunci', 'depart', 'departur', 'depend', 'depict', 'deplor', 'deploy', 'depos', 'deposit', 'deprec', 'deprecatori', 'depreci', 'depress', 'depriv', 'depth', 'deput', 'dere', 'derick', 'derid', 'deris', 'deriv', 'descartian', 'descend', 'descent', 'descri', 'describ', 'descript', 'desecr', 'desert', 'deserv', 'design', 'desir', 'desist', 'desk', 'desmarest', 'desol', 'despair', 'despatch', 'desper', 'desperado', 'despis', 'despit', 'despot', 'destin', 'destini', 'destitut', 'destroy', 'destruct', 'detach', 'detail', 'detain', 'detect', 'determin', 'detest', 'detract', 'deuteronomi', 'develop', 'deviat', 'devic', 'devil', 'devilish', 'deviou', 'devot', 'devote', 'devour', 'devout', 'devoutli', 'dew', 'dewi', 'dexter', 'dey', 'di', 'diabol', 'diaboli', 'diadem', 'diagon', 'dial', 'diamet', 'diametr', 'diamond', 'diaz', 'dick', 'dictat', 'dictatorship', 'dictionari', 'did', 'diddl', 'didn', 'didst', 'die', 'diet', 'dietet', 'differ', 'difficulti', 'diffus', 'dig', 'digest', 'digger', 'dignifi', 'digniti', 'digress', 'dilapid', 'dilat', 'dilig', 'dilut', 'diluvian', 'dim', 'dimens', 'diminish', 'dimli', 'din', 'dine', 'ding', 'dinner', 'dinnerless', 'dint', 'dip', 'dipper', 'dire', 'direct', 'directli', 'direst', 'dirgelik', 'dirti', 'disabl', 'disadvantag', 'disaffect', 'disagre', 'disappear', 'disappoint', 'disast', 'disastr', 'disband', 'disbelief', 'discern', 'discharg', 'discipl', 'disciplin', 'disclos', 'disclosur', 'discolour', 'discomfort', 'disconnect', 'discount', 'discours', 'discourseth', 'discov', 'discover', 'discoveri', 'discredit', 'discreet', 'discreetli', 'discret', 'discrimin', 'disdain', 'diseas', 'disembowel', 'disencumb', 'disengag', 'disentangl', 'disgorg', 'disguis', 'disgust', 'dish', 'dishearten', 'dishonour', 'disinclin', 'disinfect', 'disint', 'disintegr', 'disinterest', 'disjointedli', 'disk', 'dislik', 'disloc', 'dislodg', 'dismal', 'dismantl', 'dismast', 'dismay', 'dismemb', 'dismember', 'dismiss', 'disobedi', 'disobey', 'disord', 'disorderli', 'disparag', 'dispel', 'dispens', 'dispers', 'dispirit', 'displac', 'display', 'disport', 'dispos', 'disposit', 'disprov', 'disput', 'disquietud', 'disrat', 'disreput', 'dissatisfact', 'dissect', 'dissembl', 'dissent', 'dissert', 'dissimilar', 'dissoci', 'dissolut', 'dissolv', 'distanc', 'distant', 'distantli', 'distend', 'distens', 'distil', 'distinct', 'distinctli', 'distinguish', 'distort', 'distract', 'distress', 'distribut', 'district', 'distrust', 'disturb', 'ditch', 'ditcher', 'ditto', 'dive', 'diver', 'diverg', 'divers', 'divert', 'divid', 'dividend', 'divin', 'divinest', 'divis', 'divorc', 'divulg', 'do', 'docil', 'dock', 'doctor', 'doctrin', 'document', 'dodg', 'doe', 'doer', 'doesn', 'dog', 'doggedli', 'dogger', 'dole', 'dollar', 'dolli', 'dolphin', 'doltish', 'dome', 'domest', 'domin', 'dominion', 'don', 'done', 'dong', 'donkey', 'dood', 'doom', 'door', 'doorway', 'dorchest', 'dorsal', 'dost', 'dot', 'dote', 'doubl', 'doubli', 'doubloon', 'doubt', 'doubtless', 'dough', 'dous', 'dover', 'dower', 'down', 'downcast', 'downright', 'downtown', 'downward', 'doxolog', 'doze', 'dozen', 'dr', 'drab', 'drabbest', 'draft', 'drag', 'draggingli', 'dragon', 'drain', 'drama', 'dramat', 'dramatist', 'drank', 'drat', 'draught', 'draughtsmen', 'draw', 'drawback', 'drawer', 'drawl', 'drawlingli', 'drawn', 'dread', 'dreadnaught', 'dream', 'dreami', 'dreamiest', 'dreamt', 'dreari', 'drench', 'dress', 'drew', 'dri', 'dribbl', 'drift', 'drill', 'drink', 'drip', 'drive', 'driven', 'driver', 'drizzli', 'dromedari', 'droop', 'drop', 'dropt', 'drought', 'drove', 'drown', 'drowsi', 'drug', 'drugg', 'druggist', 'drum', 'drumstick', 'drunk', 'drunkard', 'drunken', 'dryden', 'dubiou', 'dubious', 'ducat', 'duck', 'due', 'duel', 'duell', 'duellist', 'duff', 'dug', 'dugong', 'duke', 'duli', 'dull', 'dumb', 'dumbest', 'dumbl', 'dumfound', 'dump', 'dumpl', 'dun', 'dunder', 'dunfermlin', 'dung', 'dungeon', 'dunkirk', 'duodecimo', 'duplic', 'durabl', 'durand', 'dure', 'durer', 'durst', 'dusk', 'duski', 'duskier', 'dust', 'dusti', 'dut', 'dutch', 'dutchman', 'duti', 'dwarf', 'dwell', 'dwelt', 'dyspepsia', 'dyspept', 'e', 'each', 'eager', 'eagerli', 'eagl', 'ear', 'earl', 'earli', 'earlier', 'earliest', 'earn', 'earnest', 'earnestli', 'earth', 'earthi', 'earthli', 'earthquak', 'earthsman', 'eas', 'easi', 'easier', 'easiest', 'easili', 'east', 'easterli', 'eastern', 'eastward', 'eat', 'eatabl', 'eaten', 'eau', 'eav', 'eavesdropp', 'ebb', 'eber', 'ebon', 'eboni', 'eccentr', 'ecclesiast', 'echo', 'eckerman', 'eckermann', 'eclipt', 'econom', 'ecuador', 'eddi', 'eddyston', 'edg', 'edgewis', 'edict', 'edific', 'edit', 'edmund', 'educ', 'edward', 'ee', 'eel', 'eeli', 'effac', 'effect', 'effectu', 'effeminaci', 'effici', 'effort', 'effulg', 'egg', 'ego', 'egotist', 'egress', 'egypt', 'egyptian', 'eh', 'ehrenbreitstein', 'eider', 'eight', 'eighteen', 'eighti', 'eightieth', 'either', 'ejacul', 'elabor', 'elaps', 'elast', 'elat', 'elb', 'elbow', 'elder', 'elderli', 'elect', 'elector', 'electr', 'eleg', 'element', 'eleph', 'elephanta', 'elev', 'eleven', 'eleventh', 'elijah', 'eliza', 'elizabeth', 'elk', 'ellenborough', 'elleri', 'elm', 'elong', 'elop', 'eloqu', 'els', 'elsewher', 'elucid', 'elud', 'elus', 'elv', 'em', 'embalm', 'embark', 'embarrass', 'embattl', 'embay', 'embellish', 'emblazon', 'emblem', 'emblemat', 'embodi', 'embolden', 'embonpoint', 'embrac', 'emerg', 'emet', 'emigr', 'emin', 'emir', 'emolu', 'emot', 'emperor', 'emphasi', 'emphat', 'empir', 'employ', 'empris', 'empti', 'emul', 'en', 'enabl', 'enact', 'encamp', 'encas', 'enchant', 'encircl', 'enclos', 'encompass', 'encor', 'encount', 'encourag', 'end', 'endang', 'endear', 'endeavor', 'enderbi', 'endless', 'endlessli', 'endu', 'endur', 'endwis', 'enemi', 'energi', 'enfeebl', 'enfold', 'enforc', 'engag', 'engend', 'engin', 'england', 'english', 'englishman', 'englishmen', 'engraft', 'engrav', 'engraven', 'engross', 'engulph', 'enhanc', 'enigmat', 'enjoin', 'enjoy', 'enkindl', 'enlarg', 'enlighten', 'enlist', 'enliven', 'enorm', 'enough', 'enrag', 'enrich', 'enrol', 'ensconc', 'enshrin', 'ensign', 'enslav', 'ensu', 'entablatur', 'entail', 'entangl', 'enter', 'enterpris', 'entertain', 'enthron', 'enthusiasm', 'entic', 'entir', 'entitl', 'entomb', 'entrail', 'entranc', 'entrap', 'entreat', 'entreati', 'entrench', 'entri', 'enumer', 'envelop', 'envi', 'enviabl', 'enviou', 'envoy', 'epaulet', 'ephesian', 'epicur', 'epicurean', 'epidem', 'epilogu', 'episod', 'epitaph', 'epitom', 'equal', 'equanim', 'equat', 'equatori', 'equinocti', 'equinox', 'equip', 'equiti', 'equival', 'er', 'ere', 'erect', 'erectli', 'ergo', 'eri', 'ermin', 'err', 'errand', 'errant', 'erromanggoan', 'erromangoan', 'erron', 'error', 'erskin', 'erudit', 'erupt', 'esau', 'escap', 'eschew', 'especi', 'espi', 'esquimaux', 'essay', 'essenc', 'essenti', 'essex', 'establish', 'estat', 'esteem', 'esteemeth', 'estim', 'et', 'etc', 'etch', 'etern', 'eternam', 'ether', 'etheri', 'ethiopian', 'etymolog', 'euclid', 'euclidean', 'eulog', 'euroclydon', 'europ', 'europa', 'european', 'evad', 'evanesc', 'evangel', 'evangelist', 'evapor', 'eve', 'even', 'evenli', 'event', 'eventu', 'ever', 'everi', 'everlast', 'everlastingli', 'evermor', 'everybodi', 'everyth', 'everyway', 'everywher', 'evid', 'evil', 'evilli', 'evinc', 'evok', 'evolut', 'evolv', 'ewer', 'ex', 'exact', 'exactitud', 'exactli', 'exagger', 'exalt', 'examin', 'exampl', 'exasper', 'excav', 'exce', 'exceed', 'exceedingli', 'excel', 'except', 'exception', 'excess', 'exchang', 'excit', 'excitedli', 'exclaim', 'exclam', 'exclud', 'exclus', 'excurs', 'excus', 'execr', 'execut', 'execution', 'executor', 'exegetist', 'exemplari', 'exercis', 'exert', 'exhal', 'exhaust', 'exhibit', 'exhilar', 'exhort', 'exhum', 'exil', 'exist', 'exordium', 'exot', 'expand', 'expandingli', 'expans', 'expati', 'expect', 'expectantli', 'expedi', 'expedit', 'expend', 'expens', 'experi', 'experienc', 'experiment', 'expert', 'expir', 'explain', 'explan', 'explanatori', 'explod', 'exploit', 'explor', 'explos', 'export', 'expos', 'expostul', 'exposur', 'expound', 'express', 'expressli', 'exquisit', 'extant', 'extend', 'extens', 'extent', 'exterior', 'extermin', 'extern', 'extinct', 'extinguish', 'extort', 'extra', 'extract', 'extraordinari', 'extravaganza', 'extrem', 'extremest', 'exult', 'exultingli', 'eye', 'eyelash', 'eyeless', 'eyelid', 'eyest', 'ezekiel', 'f', 'fa', 'fabl', 'fabric', 'fabul', 'fac', 'face', 'faceti', 'facil', 'facilit', 'fact', 'faction', 'factori', 'faculti', 'fade', 'fadeless', 'fadest', 'faeri', 'fag', 'fagot', 'fail', 'failur', 'fain', 'faint', 'fainter', 'faintest', 'faintli', 'fair', 'fairer', 'fairest', 'fairi', 'fairli', 'faith', 'falcon', 'fall', 'fallaci', 'fallen', 'fals', 'falsehood', 'falsifi', 'falter', 'fame', 'famili', 'familiar', 'familiarli', 'familyless', 'famin', 'famish', 'famou', 'fan', 'fanat', 'fanci', 'fang', 'fantasi', 'fantast', 'far', 'farc', 'fare', 'farewel', 'farmer', 'farrago', 'farth', 'farthingal', 'fasc', 'fascin', 'fashion', 'fast', 'fasten', 'faster', 'fastidi', 'fat', 'fata', 'fatal', 'fatalist', 'fate', 'father', 'fatherless', 'fathom', 'fathomless', 'fatten', 'fatter', 'fattest', 'fault', 'faulti', 'favour', 'favourit', 'fawn', 'fe', 'fear', 'fearless', 'fearlessli', 'feast', 'feastest', 'feat', 'feather', 'featheri', 'featur', 'februari', 'fed', 'fedallah', 'feder', 'fee', 'feebl', 'feebler', 'feebli', 'feed', 'feeder', 'feege', 'feegeean', 'feel', 'feelest', 'feelingli', 'feet', 'fege', 'feign', 'feint', 'feje', 'felic', 'felin', 'fell', 'fellow', 'feloni', 'felt', 'femal', 'feminam', 'feminin', 'fenc', 'fencer', 'ferdinando', 'fern', 'fernand', 'feroc', 'feroci', 'ferret', 'ferri', 'ferrul', 'fertil', 'ferul', 'fervent', 'festiv', 'festoon', 'fetch', 'fetid', 'fetor', 'fetter', 'feud', 'fever', 'feverish', 'feverishli', 'few', 'fewer', 'fibr', 'fibrou', 'fickl', 'fictiti', 'fiddl', 'fiddler', 'fidel', 'field', 'fiend', 'fiendish', 'fierc', 'fiercer', 'fieri', 'fife', 'fifteen', 'fifth', 'fifti', 'fiftieth', 'fight', 'figuera', 'figur', 'filament', 'file', 'filer', 'filial', 'fill', 'fillip', 'fin', 'final', 'find', 'fine', 'finer', 'finest', 'finger', 'finic', 'finish', 'finit', 'finni', 'fire', 'fireboard', 'fireplac', 'firesid', 'firewood', 'firkin', 'firm', 'firma', 'firmament', 'firmer', 'firmest', 'firmli', 'first', 'fish', 'fisher', 'fisheri', 'fisherman', 'fishermen', 'fishi', 'fishiest', 'fissur', 'fist', 'fit', 'fitli', 'fitz', 'five', 'fix', 'fixedli', 'fixtur', 'flag', 'flagon', 'flail', 'flake', 'flaki', 'flambeaux', 'flame', 'flank', 'flannel', 'flap', 'flash', 'flask', 'flat', 'flatli', 'flatten', 'flatter', 'flavor', 'flavorish', 'flaw', 'flaxen', 'flea', 'fled', 'flee', 'fleec', 'fleeci', 'fleet', 'flesh', 'fleshi', 'flew', 'flexibl', 'flexion', 'fli', 'flicker', 'flight', 'fling', 'flinger', 'flint', 'flinti', 'flip', 'flirt', 'flit', 'float', 'flock', 'floe', 'flog', 'flood', 'floor', 'flounder', 'flour', 'flourish', 'flourishin', 'flout', 'flow', 'flower', 'floweri', 'flue', 'fluid', 'fluke', 'flume', 'flung', 'flurri', 'flush', 'flutter', 'flyin', 'foal', 'foam', 'foami', 'foamin', 'foamingli', 'fob', 'focu', 'foe', 'foetal', 'fog', 'foggi', 'fogo', 'foibl', 'foie', 'foil', 'fold', 'folder', 'folger', 'folio', 'folk', 'folli', 'follow', 'fond', 'fondli', 'food', 'fool', 'foolish', 'foolishli', 'foot', 'footfal', 'foothold', 'footman', 'footpad', 'footpath', 'footstep', 'for', 'forbad', 'forbear', 'forbid', 'forbidden', 'forborn', 'forc', 'forcibl', 'fore', 'forebod', 'forecast', 'forecastl', 'forefing', 'forego', 'foregon', 'foreground', 'forehead', 'foreign', 'foreknew', 'foremast', 'foremastmen', 'foremost', 'forenoon', 'forerun', 'foresail', 'forese', 'foreseen', 'foreshadow', 'foreshorten', 'forest', 'foretel', 'forethrown', 'forewarn', 'forfeitur', 'forg', 'forger', 'forget', 'forgiv', 'forgot', 'forgotten', 'fork', 'forlorn', 'forlornli', 'form', 'formal', 'format', 'former', 'formerli', 'formid', 'formless', 'formosa', 'fornic', 'forsak', 'forsaken', 'forswear', 'fort', 'forth', 'forthwith', 'forti', 'fortif', 'fortitud', 'fortress', 'fortun', 'forward', 'fossil', 'fossilifer', 'foster', 'fought', 'foul', 'found', 'foundat', 'founder', 'foundl', 'fountain', 'four', 'fourteen', 'fourth', 'fowl', 'fragment', 'fragmentari', 'fragranc', 'fragrant', 'frail', 'frame', 'framework', 'franc', 'frank', 'frankfort', 'frankincens', 'frankli', 'franklin', 'frantic', 'fratern', 'fray', 'freckl', 'frederick', 'free', 'freeboot', 'freed', 'freedom', 'freeli', 'freer', 'freewil', 'freez', 'freight', 'french', 'frenchman', 'frenchmen', 'frenzi', 'frequenc', 'frequendi', 'frequent', 'fresh', 'freshen', 'fresher', 'freshet', 'freshli', 'fri', 'friar', 'friction', 'friend', 'friendli', 'friendship', 'friesland', 'frigat', 'fright', 'frighten', 'frigid', 'fring', 'friski', 'fritter', 'fro', 'frobish', 'frock', 'frog', 'froissart', 'frolic', 'from', 'front', 'frontier', 'frontispiec', 'frost', 'frosti', 'froth', 'frown', 'froze', 'frozen', 'frugal', 'fruit', 'fruition', 'frustrat', 'fuddl', 'fuego', 'fuel', 'fugit', 'fulfil', 'full', 'fuller', 'fullest', 'fulli', 'fulller', 'fumbl', 'fume', 'fun', 'function', 'functionari', 'fundament', 'funer', 'fungi', 'funni', 'fur', 'furi', 'furiou', 'furious', 'furl', 'furlong', 'furnac', 'furnish', 'furnitur', 'furrow', 'further', 'furthermor', 'furthest', 'fuse', 'fuss', 'futur', 'fuzz', 'g', 'ga', 'gabl', 'gabriel', 'gaff', 'gaffman', 'gag', 'gaili', 'gain', 'gainsaid', 'gainst', 'gait', 'gale', 'gall', 'gallant', 'gallantli', 'gallantri', 'galleri', 'galley', 'galli', 'galliot', 'gallipago', 'gallon', 'gallop', 'gallopingli', 'gallow', 'gam', 'gambog', 'gambol', 'game', 'gamesom', 'gami', 'gander', 'gang', 'gangway', 'gap', 'gape', 'garden', 'gardenni', 'gardin', 'garment', 'garneri', 'garnish', 'garrison', 'garter', 'gase', 'gaseou', 'gash', 'gasp', 'gastric', 'gate', 'gateway', 'gather', 'gaudiest', 'gaunt', 'gauntlet', 'gave', 'gay', 'gayer', 'gayhead', 'gaze', 'gazer', 'gazett', 'ge', 'gees', 'gem', 'gemini', 'genealog', 'gener', 'genera', 'genesi', 'geneva', 'genial', 'geniu', 'genius', 'genteel', 'genteelli', 'gentl', 'gentleman', 'gentlemanli', 'gentlemanlik', 'gentlemen', 'gentler', 'gentli', 'genu', 'genuin', 'geograph', 'geolog', 'geologist', 'geometr', 'geometri', 'georg', 'ger', 'germ', 'germain', 'german', 'gesner', 'gestat', 'gesticul', 'gestur', 'get', 'gette', 'gettest', 'ghastli', 'ghent', 'ghost', 'ghostli', 'giant', 'gibber', 'gibberish', 'gibraltar', 'giddi', 'giddili', 'gift', 'gigant', 'gild', 'gilder', 'gill', 'gilt', 'gin', 'ginger', 'gingerli', 'giraff', 'gird', 'girdl', 'girl', 'girlish', 'girth', 'give', 'given', 'giver', 'gizzard', 'glacier', 'glad', 'glade', 'gladli', 'glanc', 'glare', 'glass', 'glassi', 'glaze', 'glazier', 'gleam', 'glee', 'gleig', 'glen', 'glide', 'glidest', 'glim', 'glimmer', 'glimps', 'glisten', 'glitter', 'glitteringli', 'gloat', 'globe', 'globul', 'globular', 'gloom', 'gloomi', 'gloomiest', 'gloomili', 'glori', 'glorifi', 'gloriou', 'glorious', 'gloss', 'glossi', 'glove', 'glow', 'glu', 'glue', 'gluepot', 'glutin', 'gnarl', 'gnash', 'gnaw', 'gnomon', 'go', 'goa', 'goad', 'goal', 'goat', 'gobbl', 'gobern', 'goblet', 'god', 'goddess', 'godhead', 'godli', 'goe', 'goest', 'goeth', 'goggl', 'goin', 'golconda', 'gold', 'golden', 'goldsmith', 'gomorrah', 'gondibert', 'gone', 'goney', 'good', 'goodli', 'goodwin', 'goos', 'gor', 'gore', 'gorg', 'gorgeou', 'gospel', 'got', 'gothic', 'goug', 'gourmand', 'gout', 'gouti', 'govern', 'governor', 'gown', 'gra', 'grab', 'grace', 'graciou', 'gradat', 'grade', 'gradual', 'graduat', 'grain', 'grammar', 'grampu', 'grand', 'grandest', 'grandeur', 'grandfath', 'grandiloqu', 'grandissimu', 'grandmoth', 'granit', 'grant', 'grape', 'grapnel', 'grappl', 'grasp', 'grass', 'grasshopp', 'grassi', 'grate', 'gratitud', 'grave', 'graven', 'graveston', 'graveyard', 'graviti', 'graze', 'greas', 'great', 'greater', 'greatest', 'greatli', 'grecian', 'greec', 'greedi', 'greedili', 'greek', 'green', 'greener', 'greenhorn', 'greenish', 'greenland', 'greenlandmen', 'greenli', 'greenwich', 'greet', 'gregari', 'grego', 'grenadi', 'grew', 'grey', 'greybeard', 'greyhound', 'grief', 'griev', 'grievanc', 'grievou', 'griffin', 'grim', 'grimli', 'grin', 'grind', 'grindston', 'grip', 'gripe', 'grisli', 'grit', 'grizzl', 'grizzli', 'gro', 'groan', 'grocer', 'grog', 'groin', 'groom', 'groov', 'grope', 'gross', 'grotesqu', 'ground', 'group', 'grove', 'grow', 'growl', 'growland', 'growlingli', 'grown', 'growth', 'grub', 'grudg', 'gruff', 'grunt', 'guarante', 'guard', 'guardian', 'gudgeon', 'guernsey', 'guernseyman', 'guess', 'guest', 'guid', 'guido', 'guilt', 'guilti', 'guinea', 'guis', 'gulf', 'gulfwe', 'gull', 'gulli', 'gulp', 'gum', 'gun', 'gunpowd', 'gunwal', 'gurgl', 'gurri', 'gush', 'guttur', 'h', 'ha', 'haarlem', 'habeat', 'habergeon', 'habit', 'habitatori', 'habitu', 'habitud', 'hack', 'hackluyt', 'had', 'hadst', 'hag', 'haggardli', 'hah', 'hail', 'hain', 'haint', 'hair', 'hairi', 'hake', 'half', 'halfspent', 'halibut', 'hall', 'hallo', 'halloa', 'halloo', 'hallow', 'hallucin', 'halt', 'halter', 'halv', 'halyard', 'ham', 'hamlet', 'hammer', 'hammock', 'hamper', 'hampshir', 'hampton', 'hamstr', 'hand', 'handed', 'handedli', 'handi', 'handicraft', 'handkerchief', 'handl', 'handsom', 'handspik', 'hang', 'hangman', 'hannib', 'hanoverian', 'hap', 'haphazard', 'hapless', 'hapli', 'happen', 'happenest', 'happi', 'happier', 'happili', 'har', 'harbor', 'harbour', 'harbourless', 'hard', 'harder', 'hardest', 'hardi', 'hardicanut', 'hardihood', 'hardli', 'hare', 'harem', 'hark', 'harlot', 'harm', 'harmattan', 'harmless', 'harmoni', 'harold', 'harp', 'harpoon', 'harpstr', 'harri', 'harsh', 'harto', 'hartshorn', 'hartz', 'harvard', 'harvest', 'hasn', 'hast', 'hasten', 'hasti', 'hastier', 'hastili', 'hat', 'hatband', 'hatch', 'hatchet', 'hatchway', 'hate', 'hater', 'hath', 'haughti', 'haughtili', 'haul', 'haunt', 'hav', 'have', 'haven', 'havoc', 'hawaiian', 'hawk', 'hawser', 'hawthorn', 'hay', 'hazard', 'haze', 'hazel', 'hazi', 'he', 'head', 'header', 'headland', 'headless', 'headlong', 'headmost', 'headsman', 'headsmen', 'headway', 'heal', 'health', 'healthi', 'healthili', 'heap', 'hear', 'heard', 'hearer', 'hearken', 'hears', 'heart', 'hearted', 'hearth', 'hearthston', 'hearti', 'heartili', 'heartless', 'heartwo', 'heat', 'heath', 'heathen', 'heathenish', 'heav', 'heaven', 'heavenli', 'heaver', 'heavi', 'heavier', 'heaviest', 'heavili', 'hebrew', 'hecla', 'hedgehog', 'hee', 'heed', 'heedless', 'heedlessli', 'heel', 'heeva', 'heidelburgh', 'heigh', 'height', 'heighten', 'heinous', 'heir', 'held', 'helena', 'heliotrop', 'hell', 'helm', 'helmet', 'helmsman', 'help', 'helpless', 'helplessli', 'helter', 'hem', 'hemispher', 'hemlock', 'hemp', 'hempen', 'hen', 'henc', 'henceforth', 'henri', 'her', 'herald', 'herbert', 'hercul', 'herculaneum', 'herd', 'here', 'hereabout', 'hereaft', 'herebi', 'hereditari', 'hereditarili', 'herein', 'hereof', 'hereupon', 'herman', 'hermaphrodit', 'hermet', 'hermit', 'hero', 'herod', 'heroic', 'heron', 'herr', 'herschel', 'herself', 'hesitatingli', 'heterogen', 'hey', 'hi', 'hickori', 'hid', 'hidden', 'hide', 'hideou', 'hideous', 'hie', 'hieroglyph', 'higgledi', 'high', 'higher', 'highest', 'highland', 'highli', 'highway', 'highwaymen', 'hilar', 'hilari', 'hill', 'hillock', 'hilt', 'him', 'himmaleh', 'himmalehan', 'himself', 'hind', 'hinder', 'hindmost', 'hindoo', 'hindostan', 'hing', 'hint', 'hip', 'hippogriff', 'hire', 'hish', 'hiss', 'hisself', 'hist', 'histor', 'histori', 'historian', 'hit', 'hitch', 'hither', 'hitherto', 'hittit', 'ho', 'hoar', 'hoard', 'hoari', 'hob', 'hobb', 'hobbl', 'hobomack', 'hoe', 'hog', 'hogarth', 'hogarthian', 'hogshead', 'hoist', 'hoister', 'hoki', 'hold', 'holder', 'holdest', 'hole', 'holi', 'holiday', 'holier', 'holiest', 'holland', 'holloa', 'hollow', 'hollowli', 'holofern', 'homag', 'home', 'homeless', 'homeward', 'homewardbound', 'hominum', 'hone', 'honest', 'honesti', 'honey', 'honeycomb', 'honeymoon', 'honour', 'honourari', 'hoo', 'hood', 'hoof', 'hook', 'hoop', 'hooroosh', 'hoot', 'hop', 'hope', 'hopeless', 'hopelessli', 'horatii', 'horizon', 'horizont', 'horn', 'horner', 'hornpip', 'horribl', 'horrid', 'horrifi', 'horror', 'hors', 'horseback', 'horseman', 'hose', 'hosea', 'hosmannu', 'hospit', 'host', 'hostil', 'hot', 'hotel', 'hour', 'hourli', 'hous', 'household', 'housekeep', 'houseless', 'housew', 'hove', 'hover', 'hoveringli', 'how', 'howdah', 'howev', 'howl', 'hu', 'hudson', 'hue', 'huff', 'hug', 'huge', 'hugest', 'huggin', 'hull', 'hum', 'human', 'humbl', 'humbug', 'humil', 'humili', 'hummingli', 'humor', 'humoredli', 'humorist', 'hump', 'humpback', 'humph', 'hunch', 'hundr', 'hundredth', 'hung', 'hunger', 'hungri', 'hunk', 'hunt', 'hunter', 'hurl', 'hurler', 'huron', 'hurrah', 'hurri', 'hurrican', 'hurriedli', 'hurt', 'hurtl', 'husband', 'hush', 'husk', 'huskili', 'hussar', 'hussey', 'hust', 'huzza', 'hval', 'hvalt', 'hwal', 'hydrant', 'hydriot', 'hydrophobia', 'hydru', 'hyena', 'hygien', 'hymn', 'hyperborean', 'hypo', 'hypochondriac', 'hypocrisi', 'hypothes', 'hypothesi', 'hypothet', 'i', 'ian', 'ibi', 'ibid', 'ice', 'iceberg', 'icebound', 'icefield', 'iceland', 'ici', 'icicl', 'icili', 'idea', 'ideal', 'ident', 'identifi', 'idiom', 'idiot', 'idl', 'idler', 'idli', 'idol', 'idolatr', 'if', 'ignit', 'ignobl', 'ignomini', 'ignor', 'ignoramu', 'ignorantli', 'ii', 'iii', 'ile', 'ill', 'illimit', 'illinoi', 'illumin', 'illustr', 'imag', 'imagin', 'imaginari', 'imbecil', 'imbed', 'imbib', 'imit', 'immacul', 'immateri', 'immeasur', 'immedi', 'immemori', 'immens', 'immers', 'immin', 'immingl', 'immitig', 'immort', 'immov', 'immut', 'imp', 'impair', 'impal', 'impalp', 'impart', 'imparti', 'impati', 'impeach', 'imped', 'impedi', 'impel', 'impenetr', 'impenit', 'imper', 'impercept', 'imperfect', 'imperfectli', 'imperi', 'imperil', 'imperson', 'impertin', 'imperturb', 'impetu', 'impieti', 'impiou', 'impious', 'implement', 'implic', 'implicit', 'imponder', 'import', 'importun', 'impos', 'imposingli', 'imposs', 'impot', 'imprec', 'impregn', 'impress', 'imprimi', 'improb', 'improv', 'impud', 'impuls', 'impun', 'impur', 'imput', 'in', 'inabl', 'inaccess', 'inact', 'inadequ', 'inanim', 'inarticul', 'inasmuch', 'inattent', 'inaud', 'inboard', 'incalcul', 'incant', 'incap', 'incapacit', 'incarcer', 'incarn', 'incens', 'incess', 'incessantli', 'inch', 'incid', 'incident', 'incit', 'inclement', 'inclin', 'inclos', 'includ', 'inclus', 'incognita', 'incoher', 'incom', 'incommod', 'incommodi', 'incommunic', 'incompat', 'incompet', 'incomplet', 'incomput', 'inconclus', 'incongru', 'inconsider', 'incontest', 'incontin', 'incorpor', 'incorrect', 'incorrig', 'incorrupt', 'increas', 'incred', 'incredul', 'incrust', 'inculc', 'incumbr', 'incur', 'incuri', 'inde', 'indebt', 'indebted', 'indecor', 'indefatig', 'indefinit', 'independ', 'indestruct', 'index', 'indi', 'india', 'indiaman', 'indiamen', 'indian', 'indic', 'indiffer', 'indigen', 'indigest', 'indign', 'indirect', 'indirectli', 'indiscreet', 'indiscret', 'indiscrimin', 'indispens', 'indisput', 'indissolubl', 'indistinct', 'indistinctli', 'indit', 'individu', 'indol', 'indomit', 'indubit', 'induc', 'indulg', 'industri', 'ineff', 'ineffac', 'ineffectu', 'ineleg', 'inequ', 'inert', 'inestim', 'inevit', 'inexhaust', 'inexor', 'inexperi', 'inexperienc', 'inexplic', 'inexpress', 'inextric', 'infal', 'infanc', 'infant', 'infantil', 'infatu', 'infect', 'infer', 'inferenti', 'inferior', 'infern', 'infest', 'infidel', 'infiltr', 'infin', 'infinit', 'infirm', 'infix', 'inflam', 'inflat', 'inflex', 'inflict', 'influenc', 'influenti', 'inform', 'infuri', 'ing', 'ingeni', 'ingin', 'inglori', 'inhabit', 'inhal', 'inher', 'inheritor', 'inhospit', 'inhuman', 'inion', 'initi', 'injunct', 'injur', 'injuri', 'injustic', 'ink', 'inkl', 'inkstand', 'inlaid', 'inland', 'inlay', 'inmat', 'inmost', 'inn', 'innat', 'inner', 'innermost', 'innkeep', 'innoc', 'innuendo', 'innumer', 'inoffens', 'inordin', 'inquir', 'inquiri', 'inquiringli', 'inquisit', 'insan', 'insati', 'inscrib', 'inscript', 'inscrut', 'insect', 'insens', 'insepar', 'insert', 'inshor', 'insid', 'insignific', 'insinu', 'insist', 'insol', 'insomuch', 'inspect', 'inspectingli', 'inspir', 'instanc', 'instant', 'instantan', 'instantli', 'instead', 'instig', 'instinct', 'institut', 'instruct', 'instrument', 'insuffer', 'insuffici', 'insul', 'insular', 'insult', 'insultest', 'insupport', 'insur', 'insurg', 'intact', 'intang', 'integr', 'integu', 'intellect', 'intellectu', 'intellig', 'intemper', 'intend', 'intens', 'intensest', 'intensifi', 'intent', 'inter', 'interblend', 'interced', 'intercept', 'interchang', 'intercours', 'interdict', 'interest', 'interf', 'interfer', 'interflow', 'interfus', 'interior', 'interlac', 'interlink', 'interlud', 'intermeddl', 'intermedi', 'intermin', 'intermiss', 'intermit', 'intermix', 'intermixingli', 'intermixtur', 'intern', 'interpenetr', 'interpos', 'interpret', 'interregnum', 'interrog', 'interrupt', 'intersect', 'intertangl', 'intertwist', 'interv', 'interven', 'interview', 'interweav', 'interweavingli', 'intestin', 'intim', 'intimaci', 'into', 'intoler', 'intrantem', 'intrepid', 'intrepidli', 'intric', 'intricaci', 'introduc', 'introduct', 'intuit', 'inuendo', 'invad', 'invalu', 'invari', 'invas', 'invent', 'inventor', 'invert', 'invertedli', 'invest', 'investig', 'investitur', 'inveter', 'inveteraci', 'invinc', 'invis', 'invit', 'invitingli', 'invoc', 'invok', 'invokingli', 'involuntari', 'involuntarili', 'involut', 'involv', 'invuner', 'inward', 'inwreath', 'io', 'irasc', 'ire', 'ireland', 'irish', 'irksom', 'iron', 'iroquoi', 'irradi', 'irrat', 'irregular', 'irregularli', 'irresist', 'irresolut', 'irrespect', 'irrespons', 'irrever', 'irrevoc', 'irrit', 'is', 'isabella', 'isaiah', 'ishmael', 'isinglass', 'isl', 'island', 'islet', 'isn', 'isol', 'isolato', 'israel', 'israelit', 'issu', 'isthmu', 'it', 'itali', 'italian', 'itch', 'item', 'itself', 'iv', 'ivori', 'ixion', 'j', 'jabber', 'jack', 'jackal', 'jackass', 'jacket', 'jackson', 'jacob', 'jaffa', 'jag', 'jago', 'jail', 'jalap', 'jam', 'jamb', 'japan', 'japanes', 'japonica', 'jar', 'jaundic', 'jav', 'java', 'javan', 'javelin', 'jaw', 'jealou', 'jealous', 'jealousi', 'jebb', 'jeer', 'jeeringli', 'jefferson', 'jelli', 'jenni', 'jeopard', 'jeopardi', 'jeremi', 'jerk', 'jerkingli', 'jeroboam', 'jesti', 'jesu', 'jet', 'jettest', 'jew', 'jewel', 'jib', 'jiff', 'jiffi', 'jig', 'jimimi', 'jimmini', 'jingl', 'jingler', 'job', 'jocularli', 'joe', 'jog', 'john', 'johnni', 'johnson', 'join', 'joiner', 'joint', 'joist', 'joke', 'joker', 'joki', 'jolli', 'jollili', 'jolliti', 'jona', 'jonah', 'jonathan', 'jone', 'joosi', 'joppa', 'jordan', 'jostl', 'jot', 'journal', 'journey', 'journeyman', 'jove', 'jovial', 'joy', 'joyou', 'joyous', 'juan', 'jub', 'juba', 'jubil', 'judea', 'judg', 'judgmat', 'judgment', 'judici', 'judith', 'juggl', 'juggler', 'juic', 'juici', 'juli', 'jumbl', 'jump', 'junction', 'junctur', 'june', 'jungfrau', 'jungl', 'junior', 'junip', 'junk', 'jupit', 'jure', 'juri', 'jurisdict', 'jurisprud', 'just', 'justic', 'justif', 'justifi', 'justinian', 'justli', 'juvenil', 'ka', 'kannakin', 'kant', 'kedger', 'kedron', 'kee', 'keel', 'keen', 'keener', 'keenest', 'keenli', 'keep', 'keeper', 'keg', 'kelpi', 'kelson', 'kennel', 'kentledg', 'kentucki', 'kentuckian', 'kept', 'keto', 'kettl', 'key', 'keyston', 'khan', 'kick', 'kidnap', 'kill', 'killer', 'kiln', 'kin', 'kind', 'kindheart', 'kindl', 'kindli', 'kindr', 'kine', 'king', 'kingdom', 'kingli', 'kink', 'kinross', 'kinsmen', 'kiss', 'kit', 'kitchen', 'kith', 'kitten', 'knave', 'knee', 'kneel', 'kneepan', 'knell', 'knew', 'knife', 'knight', 'knightli', 'knit', 'knive', 'knob', 'knobbi', 'knock', 'knocker', 'knot', 'knotti', 'knottiest', 'know', 'knowest', 'knowingli', 'knowledg', 'known', 'koo', 'korah', 'kraken', 'kremlin', 'krusenstern', 'l', 'la', 'label', 'labor', 'labori', 'labrador', 'labyrinth', 'lace', 'laceped', 'lacer', 'lack', 'lackaday', 'lacquer', 'lactantem', 'lad', 'ladder', 'laden', 'ladi', 'ladl', 'lai', 'laid', 'lain', 'lake', 'lakeman', 'lama', 'lamatin', 'lamb', 'lament', 'lamp', 'lanc', 'lancer', 'lancet', 'land', 'landladi', 'landless', 'landlord', 'landscap', 'landsman', 'landsmen', 'lane', 'langsdorff', 'languag', 'languid', 'languish', 'languor', 'lank', 'lantern', 'lanyard', 'lap', 'lapland', 'laplandish', 'laps', 'lar', 'larboard', 'larceni', 'lard', 'larder', 'larg', 'larger', 'largest', 'lascar', 'lash', 'lashless', 'lass', 'lassitud', 'lasso', 'last', 'lastli', 'latch', 'late', 'latent', 'later', 'latest', 'lath', 'lather', 'latin', 'latitud', 'latter', 'laudanum', 'laugh', 'laughabl', 'laugheth', 'laughter', 'launch', 'launchest', 'laureat', 'lava', 'lavat', 'lave', 'lavish', 'law', 'lawless', 'lawyer', 'lay', 'layer', 'layeth', 'layn', 'lazaru', 'lazi', 'lazili', 'lb', 'le', 'leach', 'lead', 'leader', 'leadership', 'leaf', 'leagu', 'leak', 'leakag', 'leaki', 'lean', 'leaner', 'leap', 'leapest', 'learn', 'learnedli', 'learnt', 'leash', 'least', 'leather', 'leathern', 'leav', 'lecher', 'lectur', 'led', 'ledg', 'ledger', 'ledyard', 'lee', 'leech', 'leer', 'leeward', 'left', 'leg', 'legal', 'legate', 'lege', 'legend', 'legendari', 'legerdemain', 'legisl', 'legitim', 'leicest', 'leisur', 'len', 'lend', 'length', 'lengthen', 'lengthwis', 'lent', 'leo', 'leopard', 'leper', 'less', 'lesser', 'lesson', 'lest', 'let', 'lethargi', 'letter', 'leuwenhoeck', 'levant', 'level', 'lever', 'leviathan', 'lexicograph', 'lexicon', 'leyden', 'liabil', 'liabl', 'liar', 'liber', 'liberti', 'libertin', 'libra', 'librari', 'librarian', 'licens', 'lick', 'lid', 'lie', 'liest', 'lieu', 'lieuten', 'life', 'lifeless', 'lifelessli', 'lifetim', 'lift', 'ligatur', 'light', 'lighten', 'lighter', 'lightest', 'lighthous', 'lightli', 'lightn', 'like', 'liken', 'likewis', 'lili', 'lima', 'limb', 'limber', 'lime', 'limees', 'limeston', 'limit', 'limitless', 'limp', 'limpid', 'lin', 'line', 'linear', 'linen', 'linger', 'lingo', 'link', 'linnaeu', 'lint', 'lion', 'lionel', 'lip', 'lipless', 'liquid', 'liquor', 'lirra', 'list', 'listen', 'listless', 'lit', 'liter', 'literatur', 'lith', 'litig', 'litter', 'littl', 'littleton', 'liturgi', 'liv', 'live', 'liveli', 'livelihood', 'livelong', 'liver', 'livid', 'lividli', 'livingli', 'lizard', 'll', 'lo', 'load', 'loadston', 'loaf', 'loam', 'loan', 'loath', 'loathsom', 'lobe', 'lobtail', 'local', 'lock', 'locker', 'locksmith', 'lodg', 'lofti', 'loftiest', 'log', 'logan', 'loggerhead', 'loin', 'loiter', 'lombardi', 'london', 'lone', 'loneli', 'lonesom', 'long', 'longer', 'longest', 'longev', 'longingli', 'longitud', 'loo', 'look', 'looke', 'looker', 'lookest', 'lookout', 'loom', 'loon', 'loop', 'loos', 'loosen', 'lord', 'lordli', 'lose', 'loss', 'lost', 'lot', 'lothario', 'lotion', 'lotu', 'loud', 'louder', 'loudli', 'loui', 'louisiana', 'loung', 'loungingli', 'love', 'loveli', 'loveliest', 'lover', 'low', 'lower', 'loweringli', 'lowermost', 'lowest', 'lowli', 'loyal', 'lt', 'lubber', 'lucian', 'lucif', 'luck', 'lucki', 'luckili', 'luckless', 'luff', 'lug', 'luggag', 'lugger', 'lull', 'lullabi', 'lumber', 'lump', 'lunaci', 'lunar', 'lunat', 'lung', 'lungless', 'lurch', 'lurchingli', 'lure', 'lurid', 'luridli', 'lurk', 'lusti', 'lustili', 'lustr', 'lustrou', 'luxuri', 'lye', 'm', 'ma', 'maachah', 'mab', 'macassar', 'maccabe', 'maccaroni', 'mace', 'macey', 'machin', 'machineri', 'maci', 'mackerel', 'mackinaw', 'macrocephalu', 'mad', 'madam', 'madden', 'made', 'madest', 'madli', 'madman', 'maelstrom', 'magazin', 'maggot', 'magian', 'magic', 'magician', 'magistr', 'magnanim', 'magnet', 'magnif', 'magnifi', 'magnific', 'magniloqu', 'magnitud', 'mahogani', 'mahomet', 'maid', 'maiden', 'maidenli', 'mail', 'maim', 'main', 'mainli', 'mainmast', 'maintain', 'mainyard', 'majest', 'majesti', 'major', 'make', 'maker', 'makest', 'maketh', 'malacca', 'maladi', 'malay', 'male', 'maledict', 'malefactor', 'malic', 'malici', 'malign', 'malignantli', 'mallet', 'maltes', 'maltreat', 'mammi', 'mammifer', 'mammoth', 'man', 'manag', 'manchest', 'mandibl', 'mane', 'mangl', 'mangrov', 'manhandl', 'manhatto', 'manhood', 'mani', 'manifest', 'manifesto', 'manifold', 'manikin', 'manilla', 'manipul', 'mankind', 'manli', 'manliest', 'manmak', 'manner', 'mannerli', 'mannikin', 'manoeuvr', 'mansion', 'mansoul', 'mantl', 'manufactur', 'manx', 'manxman', 'map', 'mapl', 'mappl', 'mar', 'marbl', 'marbleiz', 'march', 'marchant', 'marg', 'margin', 'mari', 'marin', 'maritim', 'mariu', 'mark', 'markest', 'market', 'marketless', 'marksmen', 'marl', 'marlin', 'marlingspik', 'marlinspik', 'marmora', 'marque', 'marri', 'marriag', 'marrow', 'marsh', 'marshal', 'marshi', 'marten', 'martha', 'martial', 'martin', 'martyr', 'marvel', 'masculin', 'mask', 'mason', 'masonri', 'mass', 'massa', 'massachusett', 'massacr', 'massiv', 'mast', 'master', 'masteri', 'masterless', 'masterli', 'mastership', 'masthead', 'mastic', 'mastodon', 'mat', 'match', 'mate', 'materi', 'matern', 'mateship', 'mathemat', 'mati', 'matrimoni', 'mats', 'matsmai', 'matter', 'mattrass', 'mattress', 'matur', 'maul', 'mauri', 'maw', 'maxim', 'may', 'mayb', 'mayest', 'mayhap', 'mayhew', 'mayst', 'maze', 'mazeppa', 'mazi', 'mcculloch', 'me', 'mead', 'meadow', 'meagr', 'meal', 'meali', 'mealtim', 'mean', 'meanest', 'meanli', 'meant', 'meantim', 'meanwhil', 'measur', 'measureless', 'meat', 'mecca', 'mechan', 'medal', 'medallion', 'meddl', 'mede', 'medica', 'medicin', 'mediocr', 'medit', 'mediterranean', 'medium', 'meet', 'melancholi', 'melancthon', 'mell', 'melodi', 'melt', 'melvil', 'member', 'membran', 'memoir', 'memor', 'memori', 'men', 'menac', 'mend', 'mendanna', 'mene', 'menial', 'mention', 'mephistophelean', 'merchant', 'merchantmen', 'merci', 'merciless', 'mere', 'merest', 'merg', 'meridian', 'merit', 'meritoqu', 'mermaid', 'merman', 'merri', 'merrier', 'merrili', 'meshach', 'mesopotamian', 'mess', 'messag', 'messmat', 'met', 'metal', 'metaphys', 'metempsychosi', 'methink', 'method', 'methought', 'methuselah', 'metr', 'metropoli', 'metropolitan', 'mexico', 'miasma', 'michael', 'michigan', 'microscop', 'mid', 'midday', 'middl', 'midmost', 'midnight', 'midship', 'midst', 'midsumm', 'midway', 'midwiferi', 'midwint', 'might', 'mightest', 'mighti', 'mightier', 'mightiest', 'mightili', 'migrat', 'migratori', 'miguel', 'mild', 'mildew', 'mildli', 'mile', 'mileston', 'milit', 'militari', 'militia', 'milk', 'milki', 'mill', 'miller', 'millin', 'million', 'millionth', 'mimick', 'minc', 'mincer', 'mind', 'minded', 'mine', 'miner', 'mingl', 'miniatur', 'minist', 'ministri', 'minor', 'mint', 'minu', 'minut', 'minutest', 'mirabili', 'miracl', 'miracul', 'miriam', 'mirror', 'mirth', 'misanthrop', 'misbehaviour', 'miscellan', 'mischief', 'mischiev', 'miscreant', 'misdoubt', 'miser', 'miseri', 'miserli', 'misfortun', 'misgiv', 'misgrown', 'mishap', 'mislead', 'misnam', 'miss', 'missent', 'mission', 'missionari', 'mississippi', 'missiv', 'missouri', 'mist', 'mistak', 'mistaken', 'misti', 'mistifi', 'mistress', 'mistrust', 'mite', 'mitten', 'mix', 'mizen', 'mizentop', 'mizzen', 'moan', 'mob', 'mobi', 'moccasin', 'mock', 'mockeri', 'mockingli', 'mode', 'model', 'moder', 'modern', 'modif', 'modifi', 'mogul', 'mogulship', 'mohawk', 'moidor', 'moistur', 'molass', 'mole', 'molest', 'molifi', 'molten', 'molucca', 'moment', 'momentari', 'momentarili', 'momentum', 'monadnock', 'monarch', 'monday', 'money', 'mong', 'monger', 'mongrel', 'moni', 'monit', 'monk', 'monkey', 'monomania', 'monomaniac', 'monongahela', 'monopolis', 'monoton', 'monsieur', 'monsoon', 'monster', 'monstrou', 'monstrousest', 'montaign', 'montgomeri', 'month', 'monument', 'mood', 'moodi', 'moodili', 'moon', 'moonlight', 'moonlit', 'moor', 'moorish', 'moos', 'moot', 'mop', 'moral', 'morass', 'morbid', 'mordecai', 'more', 'moreov', 'morgana', 'morn', 'morquan', 'morrel', 'morrow', 'morsel', 'mortal', 'mortar', 'mortem', 'mose', 'mosqu', 'moss', 'mossi', 'most', 'mostli', 'mote', 'moth', 'mother', 'motion', 'motionless', 'motionlessli', 'motiv', 'motley', 'mottl', 'motto', 'mould', 'moulder', 'mouldi', 'mount', 'mountain', 'mounttop', 'mourn', 'mous', 'moustach', 'mout', 'mouth', 'movabl', 'move', 'movement', 'movingli', 'mow', 'mower', 'mown', 'mr', 'mss', 'mt', 'much', 'mud', 'muddl', 'muezzin', 'muffin', 'muffl', 'muffled', 'mufti', 'mug', 'mulberri', 'mule', 'multipl', 'multipli', 'multitud', 'multitudin', 'multum', 'mum', 'mumbl', 'mummeri', 'mummi', 'mundan', 'mungo', 'murder', 'murki', 'murmur', 'murray', 'muscl', 'muscular', 'museum', 'music', 'musk', 'musket', 'muski', 'must', 'mustard', 'muster', 'musti', 'mustn', 'mutat', 'mute', 'mutil', 'mutin', 'mutini', 'mutter', 'mutual', 'muzzl', 'my', 'myrrh', 'myself', 'mysteri', 'mystic', 'mysticetu', 'mystif', 'mystifi', 'mytholog', 'n', 'nail', 'nailest', 'nake', 'naked', 'name', 'nameless', 'namelessli', 'nantucket', 'nantuckoi', 'nap', 'nape', 'napkin', 'napoleon', 'nappish', 'narcissu', 'narr', 'narragansett', 'narrat', 'narrow', 'narrowli', 'narwhal', 'nasti', 'nat', 'nate', 'nathan', 'nation', 'nativ', 'natur', 'natura', 'naturalist', 'naught', 'nautic', 'nautilu', 'naval', 'navel', 'navi', 'navig', 'nay', 'ne', 'near', 'nearer', 'nearest', 'nearli', 'neat', 'necess', 'necessari', 'necessarili', 'necessit', 'neck', 'necklac', 'need', 'needl', 'needlessli', 'neg', 'negat', 'negativ', 'neglect', 'negro', 'neighbor', 'neighborhood', 'neighbour', 'neither', 'nelson', 'nephew', 'nerv', 'nervou', 'nervous', 'nescio', 'neskyeuna', 'nest', 'nestl', 'net', 'netherland', 'neutral', 'never', 'nevertheless', 'new', 'newcastl', 'newfoundland', 'newland', 'newli', 'news', 'newspap', 'next', 'niagara', 'nibbl', 'nice', 'nichola', 'nick', 'niec', 'niger', 'nigh', 'night', 'nightfal', 'nightgown', 'nightli', 'nightmar', 'nile', 'nill', 'nimbl', 'nine', 'nineteenth', 'nineti', 'ninetieth', 'nineveh', 'niphon', 'nipper', 'no', 'noah', 'nobl', 'noblemen', 'nobler', 'noblest', 'nobli', 'nobodi', 'nod', 'noder', 'nois', 'noiseless', 'noiselessli', 'noisi', 'nomenclatur', 'nomin', 'non', 'nonc', 'nondescript', 'none', 'nonpluss', 'nonsens', 'nook', 'noon', 'noos', 'nor', 'normal', 'nors', 'north', 'northern', 'northman', 'northward', 'northwest', 'norway', 'norwegian', 'nose', 'nosegay', 'nostril', 'not', 'notabl', 'notch', 'note', 'noteworthi', 'noth', 'nothing', 'notic', 'notifi', 'notion', 'notori', 'notorieti', 'notwithstand', 'noun', 'nourish', 'novemb', 'now', 'nowaday', 'noway', 'nowher', 'nowis', 'nt', 'nudg', 'nuee', 'numb', 'number', 'numberless', 'numer', 'nun', 'nuptial', 'nurs', 'nurseri', 'nurtur', 'nut', 'nutmeg', 'o', 'oahu', 'oak', 'oaken', 'oakum', 'oar', 'oarsman', 'oarsmen', 'oasi', 'oat', 'oath', 'ob', 'obe', 'obedi', 'ober', 'obey', 'obeyest', 'obituari', 'object', 'objection', 'oblig', 'obliqu', 'obliter', 'oblivi', 'oblong', 'obscur', 'obsequi', 'observ', 'observatori', 'observest', 'obsolet', 'obstacl', 'obstetr', 'obstin', 'obstinaci', 'obstreper', 'obstruct', 'obtain', 'obtrud', 'obviou', 'obvious', 'occas', 'occasion', 'occult', 'occup', 'occupi', 'occur', 'occurr', 'ocean', 'oceanica', 'ochotsh', 'octavo', 'octher', 'octob', 'odd', 'oddish', 'oddli', 'oder', 'odiou', 'odor', 'odorifer', 'odorless', 'of', 'off', 'offenc', 'offens', 'offer', 'offic', 'offici', 'officio', 'offspr', 'oft', 'often', 'oftenest', 'oftentim', 'oh', 'ohio', 'oil', 'oili', 'oilpaint', 'ointment', 'olassen', 'old', 'olden', 'older', 'oldest', 'olfactori', 'oli', 'oliv', 'olmstead', 'ombay', 'omen', 'omin', 'omit', 'omnipot', 'omnipres', 'omnisci', 'omnitool', 'omnivor', 'on', 'onc', 'one', 'oneself', 'onli', 'onset', 'ontario', 'onward', 'ooz', 'oozi', 'opal', 'open', 'openli', 'openmouth', 'oper', 'opera', 'ophit', 'opin', 'opinion', 'opium', 'opportun', 'oppos', 'opposit', 'optic', 'opul', 'or', 'orang', 'orat', 'orb', 'orbit', 'orchard', 'orchestra', 'ordain', 'order', 'ordinair', 'ordinari', 'ordinarili', 'oregon', 'organ', 'orgi', 'orient', 'origin', 'orion', 'orison', 'ork', 'orlean', 'orlop', 'ornament', 'orphan', 'orthodox', 'orthodoxi', 'os', 'oscil', 'osseou', 'ostens', 'ostentati', 'ostrich', 'other', 'otherwis', 'ottoman', 'ought', 'ounc', 'our', 'ourselv', 'oust', 'out', 'outbelli', 'outblown', 'outbranch', 'outburst', 'outcri', 'outdon', 'outer', 'outermost', 'outfit', 'outlandish', 'outlast', 'outlaw', 'outlet', 'outlin', 'outnumb', 'outrag', 'outran', 'outreach', 'outrid', 'outright', 'outset', 'outsid', 'outskirt', 'outspread', 'outspreadingli', 'outstretch', 'outstrip', 'outward', 'outwardli', 'outweigh', 'outwork', 'outyel', 'oval', 'over', 'overaw', 'overbal', 'overbear', 'overboard', 'overburden', 'overcloud', 'overcom', 'overdo', 'overdon', 'overflow', 'overgrow', 'overgrowth', 'overhang', 'overhead', 'overhear', 'overheard', 'overhung', 'overladen', 'overlap', 'overlay', 'overleap', 'overlook', 'overlord', 'overman', 'overmuch', 'overpow', 'overrul', 'overrun', 'overrunningli', 'oversail', 'overscorn', 'overse', 'oversho', 'oversight', 'overspread', 'overstock', 'overstrain', 'overswarm', 'overtak', 'overtaken', 'overtur', 'overwhelm', 'overwrap', 'owe', 'owen', 'owest', 'own', 'owner', 'ox', 'oxen', 'oxygen', 'oyster', 'p', 'pace', 'pacif', 'pack', 'packet', 'pactolu', 'pad', 'paddl', 'padlock', 'paean', 'pagan', 'page', 'pageant', 'pagoda', 'paid', 'pail', 'pain', 'painstak', 'paint', 'painter', 'pair', 'palac', 'palat', 'palav', 'pale', 'paler', 'palest', 'paley', 'palisad', 'pall', 'pallet', 'pallid', 'pallor', 'palm', 'palmi', 'palpabl', 'palsi', 'paltri', 'pampa', 'pamper', 'pamphlet', 'pan', 'pandect', 'panel', 'pang', 'panic', 'pannangian', 'pannier', 'panorama', 'pant', 'pantaloon', 'pantheist', 'pantheon', 'panther', 'pantomim', 'pantri', 'paper', 'paracelsan', 'paracelsu', 'parad', 'paradis', 'parallel', 'paralys', 'paralysi', 'paramount', 'parcel', 'parch', 'parchingli', 'parchment', 'pardon', 'paregor', 'parent', 'parenthes', 'pari', 'parisian', 'park', 'parliament', 'parlor', 'parm', 'parmacetti', 'parri', 'parricid', 'parse', 'parsley', 'parson', 'part', 'partak', 'parti', 'partial', 'particip', 'particl', 'particular', 'particularli', 'partit', 'partli', 'partner', 'partnership', 'partook', 'parvo', 'pascal', 'pass', 'passag', 'passant', 'passeng', 'passer', 'passion', 'passionless', 'passiv', 'passport', 'past', 'pasteboard', 'pastil', 'pastur', 'pat', 'patagonia', 'patagonian', 'patch', 'patchwork', 'pate', 'patent', 'patente', 'patern', 'path', 'patienc', 'patient', 'patri', 'patrician', 'patriot', 'patrol', 'patron', 'patronis', 'pattern', 'paul', 'paunch', 'pauper', 'paus', 'pauselessli', 'pave', 'pavement', 'paw', 'pawn', 'pay', 'pea', 'peac', 'peaceabl', 'peak', 'peal', 'pear', 'pearl', 'peasant', 'pebbl', 'peck', 'peculiar', 'peculiarli', 'peddl', 'peddler', 'peddlin', 'pedest', 'pedestrian', 'pedigre', 'pedlar', 'pedro', 'peel', 'peep', 'peer', 'peeringli', 'peg', 'pegu', 'peke', 'peleg', 'peliss', 'pell', 'pelt', 'peltri', 'pelvi', 'pen', 'penal', 'penalti', 'pencil', 'pendant', 'pendul', 'pendulum', 'penem', 'penetr', 'peninsula', 'pennant', 'penni', 'penniless', 'pennon', 'pensiv', 'pent', 'peopl', 'pepper', 'pequod', 'per', 'peradventur', 'perceiv', 'percept', 'perch', 'perchanc', 'perdit', 'peremptori', 'peremptorili', 'perenni', 'perfect', 'perfectli', 'perfidi', 'perform', 'perfum', 'perfumeri', 'perhap', 'peril', 'period', 'periodic', 'perish', 'perisheth', 'perman', 'permit', 'perpendicular', 'perpendicularli', 'perpetu', 'perplex', 'perquisit', 'perri', 'persecut', 'persecutor', 'perseu', 'persev', 'persever', 'persia', 'persian', 'persist', 'person', 'personifi', 'perspect', 'persuad', 'persuas', 'pert', 'pertain', 'perth', 'pertinaci', 'perturb', 'peru', 'perus', 'peruvian', 'pervad', 'pervers', 'pest', 'pester', 'pestifer', 'pestil', 'peter', 'peterson', 'petit', 'petrifi', 'petti', 'petticoat', 'petul', 'pewter', 'phaedon', 'phantom', 'pharaoh', 'phase', 'phenomena', 'phenomenon', 'phidia', 'phil', 'philanthropist', 'philip', 'philipp', 'philippin', 'philistin', 'philolog', 'philopat', 'philosoph', 'philosophi', 'phiz', 'phospher', 'phosphoresc', 'phrase', 'phraseolog', 'phrenolog', 'phrenologist', 'phrensi', 'physet', 'physic', 'physiognom', 'physiognomi', 'physiognomist', 'physiologist', 'piazza', 'pick', 'pickl', 'pictori', 'pictur', 'picturesqu', 'pie', 'piec', 'pier', 'pierc', 'piercer', 'pieti', 'pig', 'piggin', 'piggledi', 'pike', 'pilau', 'pile', 'pilfer', 'pilgrim', 'pill', 'pillag', 'pillar', 'pillow', 'pilot', 'pin', 'pincer', 'pinch', 'pine', 'pinion', 'pinmoney', 'pinni', 'pint', 'pioneer', 'piou', 'piousli', 'pip', 'pipe', 'pippin', 'pirat', 'pirohite', 'pirouet', 'pisc', 'pistol', 'pit', 'pitch', 'pitcher', 'pitchiest', 'pitchpol', 'piteou', 'pitferren', 'piti', 'pitiabl', 'pitiless', 'pivot', 'pizarro', 'placard', 'place', 'placeless', 'placelessli', 'placid', 'placidli', 'plagu', 'plaguey', 'plaguy', 'plaid', 'plain', 'plainest', 'plainli', 'plaintiff', 'plaintiv', 'plait', 'plan', 'plane', 'planet', 'planetarili', 'planispher', 'plank', 'plant', 'plantat', 'plaster', 'plata', 'plate', 'platform', 'plato', 'platon', 'platonian', 'platonist', 'platter', 'plaudit', 'plausibl', 'play', 'player', 'playth', 'plazza', 'plead', 'pleas', 'pleasant', 'pleasantli', 'pleasur', 'pleat', 'plebeian', 'pledg', 'plenti', 'plethor', 'pli', 'pliabl', 'plight', 'plini', 'plough', 'plowdon', 'pluck', 'plug', 'plum', 'plumag', 'plumb', 'plume', 'plummet', 'plump', 'plunder', 'plung', 'plungingli', 'plural', 'plutarch', 'pocket', 'pod', 'poem', 'poet', 'poetic', 'point', 'pointest', 'pointless', 'pois', 'poison', 'poke', 'poker', 'poki', 'poland', 'polar', 'pole', 'poli', 'polic', 'policeman', 'policemen', 'polici', 'polish', 'polit', 'pollard', 'poltroon', 'polynesia', 'polynesian', 'pomatum', 'pommel', 'pomp', 'pompey', 'poncho', 'pond', 'ponder', 'ponderos', 'poni', 'poniard', 'pontoppodan', 'pooh', 'pool', 'poop', 'poor', 'poorest', 'poorli', 'pop', 'popayan', 'pope', 'popul', 'popular', 'popularli', 'porch', 'porcupin', 'pore', 'pork', 'porpois', 'port', 'portabl', 'portculli', 'portent', 'porter', 'porthol', 'portion', 'portli', 'portrait', 'portug', 'portugues', 'poru', 'pose', 'poser', 'posi', 'posit', 'poss', 'possess', 'possibl', 'post', 'poster', 'postman', 'postpon', 'postponedli', 'postscript', 'postur', 'pot', 'potato', 'potenc', 'potent', 'potenti', 'potion', 'potluck', 'pott', 'potter', 'potteri', 'pottowottami', 'pottsfich', 'pouch', 'pounc', 'pound', 'pour', 'pout', 'povelson', 'poverti', 'powder', 'power', 'powerless', 'pox', 'practic', 'practis', 'praetorian', 'prairi', 'prais', 'prate', 'pray', 'prayer', 'pre', 'preach', 'preacher', 'prebl', 'precaut', 'precautionari', 'preced', 'precinct', 'preciou', 'precious', 'precipic', 'precipit', 'precis', 'predecessor', 'predestin', 'predica', 'predict', 'predomin', 'preemin', 'prefac', 'prefectur', 'prefer', 'prefigur', 'prefix', 'pregnant', 'prehensil', 'prejudic', 'preliminari', 'prelud', 'prelus', 'prematur', 'premedit', 'premis', 'premium', 'premonitori', 'prepar', 'preposter', 'presag', 'presbyterian', 'prescienc', 'prescient', 'prescrib', 'prescript', 'presenc', 'present', 'presenti', 'preserv', 'presid', 'press', 'pressur', 'prestig', 'presto', 'presum', 'presumpt', 'pretend', 'preternatur', 'pretti', 'prevail', 'preval', 'prevent', 'previou', 'previous', 'prey', 'pri', 'price', 'prick', 'pride', 'priest', 'primal', 'primari', 'prime', 'primer', 'primev', 'primit', 'primogenitur', 'princ', 'princess', 'princip', 'principl', 'print', 'prior', 'prioriti', 'prison', 'privat', 'privileg', 'prize', 'proa', 'probabl', 'probationari', 'probe', 'problem', 'problemat', 'proce', 'procedur', 'proceed', 'process', 'proclaim', 'proclam', 'procopiu', 'procur', 'prodigi', 'prodromu', 'produc', 'product', 'profan', 'profess', 'profession', 'professor', 'proffer', 'profil', 'profit', 'profound', 'profoundest', 'profoundli', 'profund', 'profus', 'progeni', 'progenitor', 'programm', 'progress', 'project', 'prolong', 'prolongingli', 'promenad', 'prometheu', 'promin', 'promis', 'promiscu', 'promissori', 'promontori', 'promot', 'prompt', 'promptitud', 'promptli', 'prone', 'prong', 'pronounc', 'proof', 'prop', 'propel', 'propens', 'proper', 'properli', 'properti', 'propheci', 'prophesi', 'prophet', 'proponti', 'proport', 'proportion', 'propos', 'proprieti', 'proprietor', 'propuls', 'prose', 'prosecut', 'prospect', 'prosper', 'prostrat', 'protect', 'protest', 'protract', 'protrud', 'protrus', 'protuber', 'proud', 'prouder', 'proudli', 'prove', 'proverb', 'proverbi', 'provid', 'providenti', 'provinc', 'provinci', 'provis', 'provoc', 'provok', 'prow', 'prowl', 'prudent', 'prudenti', 'prune', 'prynn', 'psalm', 'psalmodi', 'ptolemi', 'public', 'publicli', 'publish', 'pud', 'pudding', 'puf', 'puff', 'pugilist', 'pugnaci', 'puissant', 'pull', 'pulpi', 'pulpit', 'puls', 'pulsat', 'pulver', 'pump', 'punch', 'punchbowl', 'puncheon', 'punctili', 'punctual', 'punctur', 'punish', 'pupella', 'pupil', 'purcha', 'purchas', 'pure', 'purest', 'purg', 'puritan', 'purpl', 'purplish', 'purport', 'purpos', 'purposeless', 'purr', 'purs', 'pursu', 'pursuer', 'pursuit', 'purti', 'push', 'pusi', 'put', 'puzzl', 'pyramid', 'pyre', 'pyrrho', 'pythagora', 'pythagorean', 'quadrant', 'quadrup', 'quaf', 'quaff', 'quahog', 'quail', 'quaint', 'quak', 'quaker', 'quakeress', 'quakerish', 'qualifi', 'qualiti', 'quantiti', 'quarantin', 'quarrel', 'quarrelsom', 'quarri', 'quart', 'quarter', 'quarto', 'quay', 'quebec', 'queen', 'queenli', 'queequeg', 'queer', 'queerest', 'quenchless', 'quest', 'question', 'quick', 'quicken', 'quicker', 'quickest', 'quickli', 'quicksand', 'quicksilv', 'quid', 'quiescenc', 'quiescent', 'quiet', 'quietest', 'quietli', 'quietud', 'quig', 'quill', 'quilt', 'quit', 'quito', 'quiver', 'quog', 'quoggi', 'quohog', 'quoin', 'quot', 'raal', 'rabbin', 'rabbl', 'rabelai', 'rabid', 'race', 'rachel', 'rack', 'racket', 'rad', 'radianc', 'radiant', 'radiat', 'radic', 'radney', 'raft', 'rafter', 'rag', 'ragamuffin', 'rage', 'rail', 'railroad', 'railway', 'raiment', 'raimond', 'rain', 'rainbow', 'raini', 'rais', 'rake', 'ralli', 'ram', 'ramadan', 'rambl', 'ramifi', 'rampart', 'ran', 'randolph', 'random', 'rang', 'rank', 'rap', 'rapaci', 'rape', 'raphael', 'rapid', 'rapidli', 'rapscallion', 'rapt', 'raptur', 'rare', 'rariti', 'rarmai', 'rascal', 'rat', 'rate', 'rather', 'ratif', 'ratifi', 'rattl', 'rattler', 'rave', 'raven', 'ravin', 'ravish', 'raw', 'ray', 'rayther', 'raze', 'razor', 're', 'reach', 'read', 'reader', 'readi', 'readili', 'real', 'realiti', 'realiz', 'realli', 'reap', 'reaper', 'reappear', 'rear', 'rearward', 'reason', 'reasonest', 'rebel', 'rebellion', 'rebound', 'rebut', 'recal', 'reced', 'receiv', 'recent', 'recentest', 'recept', 'receptacl', 'rechristen', 'rechurn', 'reciproc', 'reckless', 'recklessli', 'reckon', 'reclin', 'reclus', 'recognis', 'recognit', 'recoil', 'recollect', 'recommend', 'reconcil', 'recondit', 'record', 'recount', 'recov', 'recoveri', 'recreat', 'recross', 'recruit', 'recumb', 'recur', 'red', 'redden', 'reddenest', 'redder', 'reddish', 'redeem', 'redol', 'redoubl', 'redoubt', 'reduc', 'redund', 'reef', 'reel', 'reelingli', 'reelman', 'reev', 'refer', 'refil', 'refin', 'refiningli', 'reflect', 'reform', 'refrain', 'refresh', 'refriger', 'refug', 'refuge', 'refus', 'reg', 'regain', 'regal', 'regard', 'regardless', 'regent', 'regiment', 'regina', 'region', 'regul', 'regular', 'regularli', 'rehears', 'reign', 'reigneth', 'rein', 'reinforc', 'reiter', 'reject', 'rejoic', 'rejoin', 'rejoind', 'rel', 'relaps', 'relat', 'relax', 'relent', 'reli', 'reliabl', 'relianc', 'relic', 'relief', 'reliev', 'relievo', 'religi', 'religion', 'religionist', 'relinquish', 'relish', 'reluctantli', 'remain', 'remaind', 'remark', 'rememb', 'remembr', 'remind', 'reminisc', 'remnant', 'remonstr', 'remors', 'remorseless', 'remorselessli', 'remot', 'remotest', 'remount', 'remov', 'remun', 'ren', 'rend', 'render', 'renegad', 'renew', 'renounc', 'renown', 'renssela', 'rent', 'repair', 'reparte', 'repass', 'repast', 'repeat', 'repeatedli', 'repel', 'repellingli', 'repent', 'repetit', 'replac', 'replenish', 'repli', 'report', 'repos', 'reprehens', 'repres', 'repress', 'reprimand', 'reproach', 'reptil', 'republica', 'republican', 'repugn', 'repuls', 'reput', 'request', 'requiem', 'requin', 'requir', 'requirest', 'requisit', 'rescu', 'research', 'resembl', 'resent', 'reserv', 'reservoir', 'resid', 'residu', 'residuari', 'resign', 'resist', 'resolut', 'resolv', 'resort', 'resound', 'respect', 'respir', 'respit', 'resplend', 'respond', 'respons', 'rest', 'restless', 'restor', 'restrain', 'restraint', 'restrict', 'result', 'resum', 'resurrect', 'retain', 'retak', 'retaken', 'retard', 'retent', 'reticul', 'retir', 'retrac', 'retreat', 'retribut', 'return', 'rev', 'reveal', 'revel', 'revelri', 'reveng', 'revenu', 'rever', 'reverber', 'reverenc', 'reverend', 'reverenti', 'reveri', 'revers', 'review', 'reviv', 'revivifi', 'revolut', 'revolv', 'revolvingli', 'revuls', 'reward', 'rex', 'reydan', 'rhenish', 'rheumat', 'rhode', 'rhubarb', 'rhyme', 'rib', 'ribbi', 'ribbon', 'rich', 'richard', 'richardson', 'richer', 'richli', 'ricketi', 'rid', 'ridden', 'riddl', 'ride', 'rider', 'ridg', 'ridicul', 'rifl', 'rig', 'rigadig', 'rigger', 'right', 'righteou', 'righteous', 'rightli', 'rigid', 'rigor', 'rim', 'rinaldini', 'rinaldo', 'rind', 'ring', 'ringbolt', 'ringlead', 'rio', 'riot', 'riotou', 'riotous', 'rip', 'ripe', 'ripen', 'rippl', 'ripplingli', 'ript', 'rise', 'risen', 'risk', 'ritual', 'rival', 'rivallingli', 'river', 'rivet', 'road', 'roanok', 'roar', 'roast', 'rob', 'robber', 'robe', 'robert', 'robust', 'rock', 'rockaway', 'rocket', 'rocki', 'rod', 'rodmond', 'roger', 'rogu', 'rokovoko', 'roli', 'roll', 'rollick', 'roman', 'romant', 'rome', 'romish', 'rondeletiu', 'rood', 'roof', 'room', 'roomi', 'roost', 'root', 'rope', 'ropeyarn', 'rose', 'rosi', 'ross', 'rostrat', 'rot', 'rotat', 'rotten', 'rotund', 'rough', 'roughli', 'round', 'roundabout', 'rounder', 'roundingli', 'roundli', 'rous', 'rousseau', 'rout', 'routin', 'rove', 'rover', 'row', 'rowel', 'rowlock', 'royal', 'royalti', 'rub', 'rubi', 'ruddi', 'rude', 'rudiment', 'rue', 'rueful', 'ruefulli', 'ruf', 'ruffl', 'rug', 'rugged', 'ruggedest', 'ruin', 'ruinou', 'rule', 'ruler', 'rum', 'rumbl', 'rumin', 'rummag', 'rumor', 'rumour', 'rumpl', 'run', 'runaway', 'ruptur', 'rural', 'rush', 'russian', 'rust', 'rusti', 'rustl', 'ruthless', 's', 'sabbath', 'sabbe', 'sabl', 'sachem', 'sack', 'saco', 'sacr', 'sacrament', 'sacred', 'sacrific', 'sacrifici', 'sacrilegi', 'sad', 'sadder', 'saddest', 'saddl', 'sadli', 'safe', 'safeti', 'sag', 'sagac', 'sagaci', 'sage', 'sagittariu', 'sahara', 'said', 'sail', 'sailer', 'sailmak', 'sailor', 'saint', 'saith', 'sake', 'sal', 'salad', 'saladin', 'salam', 'salamand', 'salem', 'salin', 'salisburi', 'salli', 'sallow', 'salmon', 'salt', 'saltcellar', 'salut', 'salvat', 'sam', 'same', 'sammi', 'samphir', 'samson', 'samuel', 'sanctifi', 'sanctiti', 'sanctorum', 'sanctuari', 'sanctum', 'sand', 'sandpap', 'sandwich', 'sane', 'sang', 'sanguinari', 'saniti', 'sank', 'santa', 'sap', 'sapl', 'saratoga', 'sarmon', 'sartain', 'sartainti', 'sartin', 'sash', 'sashless', 'sat', 'satan', 'sate', 'satieti', 'satin', 'satir', 'satisfact', 'satisfactori', 'satisfactorili', 'satisfi', 'saturday', 'saturn', 'sauc', 'saucer', 'saul', 'saunter', 'savag', 'savageri', 'savanna', 'save', 'savesoul', 'savor', 'savori', 'savouri', 'saw', 'sawn', 'saxon', 'say', 'sayest', 'sayst', 'scabbard', 'scald', 'scale', 'scallop', 'scalp', 'scamp', 'scan', 'scandinavian', 'scant', 'scar', 'scaramouch', 'scarc', 'scarciti', 'scare', 'scarf', 'scarri', 'scatter', 'scene', 'sceneri', 'scent', 'scentless', 'sceptic', 'sceptr', 'scheme', 'schmerenburgh', 'scholar', 'school', 'schoolboy', 'schoolmast', 'schooner', 'schouten', 'scienc', 'scientif', 'scimetar', 'scold', 'scollop', 'sconc', 'scoop', 'scoot', 'scorbut', 'scorch', 'scorchingli', 'score', 'scoresbi', 'scoria', 'scorn', 'scornest', 'scorpio', 'scorpion', 'scotch', 'scotland', 'scougin', 'scoundrel', 'scour', 'scout', 'scowl', 'scrabbl', 'scragg', 'scraggi', 'scrambl', 'scrap', 'scrape', 'scratch', 'scrawl', 'scream', 'screen', 'screw', 'scrimp', 'scriptur', 'scroll', 'scroug', 'scrub', 'scrupl', 'scrupul', 'scrutin', 'scrutini', 'scud', 'scuffl', 'sculptur', 'scupper', 'scuttl', 'scyth', 'se', 'sea', 'seal', 'sealin', 'seam', 'seaman', 'seamen', 'seamless', 'seaport', 'search', 'searchingli', 'season', 'seat', 'seaward', 'seawe', 'sebastian', 'sebond', 'seclud', 'secluded', 'seclus', 'second', 'secondli', 'secreci', 'secret', 'secretari', 'secretli', 'sect', 'section', 'secur', 'sed', 'sedentari', 'seduc', 'seduct', 'see', 'seed', 'seek', 'seekest', 'seem', 'seemingli', 'seemli', 'seen', 'seer', 'seeth', 'seethingli', 'seeva', 'segment', 'seignori', 'seiz', 'seizur', 'seldom', 'select', 'selectest', 'self', 'sell', 'sellin', 'selv', 'semblanc', 'semi', 'semicircl', 'semicircular', 'semin', 'semirami', 'semiweekli', 'senat', 'send', 'seneca', 'senior', 'senor', 'sens', 'sensat', 'senseless', 'sensibl', 'sensit', 'sent', 'sentenc', 'sentiment', 'sentimentalist', 'sentinel', 'sentri', 'separ', 'sepulchr', 'sequel', 'sequenti', 'seren', 'serenest', 'serf', 'seri', 'seriou', 'serious', 'sermon', 'serpent', 'serpentin', 'serri', 'serv', 'servant', 'servic', 'servil', 'set', 'seth', 'sette', 'settl', 'settlement', 'settler', 'seven', 'seventeenth', 'seventh', 'seventi', 'sever', 'severest', 'sew', 'sex', 'seychel', 'shabbi', 'shabbiest', 'shabbili', 'shad', 'shade', 'shadi', 'shadiest', 'shadow', 'shadowi', 'shadrach', 'shaft', 'shaggi', 'shake', 'shaken', 'shaker', 'shakespear', 'shall', 'shallop', 'shallow', 'shallowest', 'shalt', 'shambl', 'shame', 'shan', 'shank', 'shape', 'share', 'shark', 'sharkish', 'sharp', 'sharpen', 'sharper', 'sharpest', 'sharpli', 'sharppoint', 'shaster', 'shatter', 'shave', 'she', 'sheaf', 'shear', 'sheath', 'sheav', 'shed', 'sheep', 'sheepfold', 'sheepishli', 'sheer', 'sheet', 'sheffield', 'shelf', 'shell', 'shelter', 'shelv', 'shem', 'shepherd', 'sherbet', 'sherri', 'shetland', 'shi', 'shield', 'shift', 'shill', 'shinbon', 'shindi', 'shine', 'shingl', 'shiningli', 'ship', 'shipkeep', 'shipmat', 'shipwreck', 'shipyard', 'shirr', 'shirt', 'shiver', 'shoal', 'shock', 'shod', 'shoe', 'shoeless', 'shoemak', 'shone', 'shook', 'shoot', 'shop', 'shore', 'shoreless', 'short', 'shorten', 'shortest', 'shortli', 'shot', 'should', 'shoulder', 'shout', 'shove', 'shovel', 'show', 'shower', 'showest', 'shown', 'shred', 'shrewd', 'shriek', 'shrill', 'shrine', 'shrink', 'shrivel', 'shroud', 'shrub', 'shrunk', 'shrunken', 'shudder', 'shudderingli', 'shuffl', 'shun', 'shut', 'shutter', 'shuttl', 'shuttlecock', 'shyness', 'si', 'siam', 'siames', 'sibbald', 'siberia', 'siberian', 'sich', 'sicilian', 'sick', 'sickl', 'side', 'sideboard', 'sidelingli', 'sidelong', 'sideway', 'siev', 'sigh', 'sight', 'sign', 'signal', 'signer', 'signif', 'signifi', 'signific', 'significantli', 'sikok', 'silenc', 'silent', 'silk', 'silken', 'sill', 'silli', 'silver', 'silveri', 'simeon', 'simil', 'similar', 'similarli', 'similitud', 'simoon', 'simpl', 'simplest', 'simpli', 'simplic', 'simultan', 'sin', 'sinc', 'sincer', 'sinecur', 'sinew', 'sing', 'singl', 'singular', 'singularli', 'sinist', 'sink', 'sinker', 'sinner', 'sip', 'sir', 'sire', 'siskur', 'sister', 'sisterli', 'sit', 'site', 'sitteth', 'sittin', 'situat', 'six', 'sixpenc', 'sixteen', 'sixteenth', 'sixth', 'sixti', 'size', 'skeleton', 'skelter', 'sketch', 'skewer', 'skiff', 'skil', 'skill', 'skim', 'skin', 'skip', 'skipper', 'skirra', 'skirt', 'skittishli', 'skrimmag', 'skrimshand', 'skulk', 'skull', 'sky', 'skylark', 'skysail', 'slab', 'slack', 'slacken', 'slain', 'slam', 'slander', 'slanderin', 'slant', 'slantingli', 'slap', 'slappin', 'slash', 'slat', 'slate', 'slatternli', 'slaughter', 'slave', 'slaveri', 'slavish', 'slay', 'sled', 'sledg', 'sleek', 'sleep', 'sleeper', 'sleepi', 'sleepiest', 'sleepless', 'sleet', 'sleev', 'sleight', 'slender', 'slept', 'slew', 'sli', 'slice', 'slid', 'slide', 'slight', 'slighter', 'slightest', 'slightli', 'slili', 'slim', 'slime', 'sling', 'slink', 'slip', 'slipper', 'slipperi', 'slipt', 'slit', 'slobgollion', 'slogan', 'sloop', 'slope', 'slopingli', 'slouch', 'slow', 'slower', 'slowli', 'sluggish', 'sluggishli', 'slumber', 'slung', 'slunk', 'smack', 'smackin', 'smackingli', 'small', 'smaller', 'smallest', 'smart', 'smeer', 'smeerenberg', 'smell', 'smelt', 'smile', 'smite', 'smith', 'smithfield', 'smithi', 'smitten', 'smoke', 'smoker', 'smoki', 'smooth', 'smote', 'smother', 'smuggl', 'smuggler', 'smut', 'snake', 'snaki', 'snap', 'snare', 'snarl', 'snatch', 'sneak', 'sneer', 'sneez', 'snodhead', 'snooz', 'snore', 'snort', 'snow', 'snowhowdah', 'snowi', 'snuf', 'snuff', 'snuffer', 'snuffl', 'snug', 'snugli', 'so', 'soak', 'soap', 'soapston', 'soar', 'sob', 'sober', 'soberli', 'sobrieti', 'sociabl', 'social', 'societi', 'sock', 'socket', 'socrat', 'sod', 'sodom', 'soever', 'sofa', 'soft', 'soften', 'softest', 'softli', 'sog', 'sogger', 'soggi', 'soil', 'sojourn', 'solac', 'solado', 'soland', 'solar', 'sold', 'soldier', 'sole', 'solec', 'solemn', 'solemnli', 'solicit', 'solicitud', 'solid', 'soliloqu', 'solitari', 'solitud', 'solo', 'soloma', 'solomon', 'solu', 'solv', 'some', 'somebodi', 'somehow', 'somerset', 'someth', 'sometim', 'somewhat', 'somewher', 'somnambul', 'somnambulist', 'son', 'song', 'songster', 'sonor', 'soon', 'sooner', 'soonest', 'soot', 'sooth', 'soothingli', 'sooti', 'sorceri', 'sordid', 'sore', 'sorri', 'sorrow', 'sort', 'sorter', 'sou', 'sought', 'soul', 'soulless', 'sound', 'soundest', 'sourc', 'sourceless', 'sous', 'south', 'southerli', 'southern', 'southward', 'sovereign', 'sovereignest', 'sow', 'sown', 'space', 'spaciou', 'spacious', 'spade', 'spademan', 'spain', 'spake', 'span', 'spangl', 'spaniard', 'spanish', 'spanishli', 'spar', 'spare', 'spark', 'sparkl', 'spasmod', 'spat', 'spavin', 'spawn', 'speak', 'speaker', 'speakest', 'spear', 'speci', 'special', 'specialti', 'specif', 'specimen', 'speckl', 'specksion', 'specksynd', 'spectacl', 'spectr', 'spectral', 'specul', 'sped', 'speech', 'speechless', 'speechlessli', 'speed', 'speedi', 'speediest', 'spell', 'spencer', 'spend', 'spent', 'sperm', 'sperma', 'spermaceti', 'spermacetti', 'spermi', 'sphere', 'spheric', 'sphinx', 'sphynx', 'spi', 'spice', 'spici', 'spicin', 'spigot', 'spike', 'spile', 'spill', 'spin', 'spinal', 'spindl', 'spine', 'spinoza', 'spiracl', 'spiral', 'spiralis', 'spire', 'spirit', 'spiritu', 'spit', 'spite', 'spitzbergen', 'splash', 'spleen', 'splendor', 'splice', 'splinter', 'split', 'splutter', 'spo', 'spoil', 'spoke', 'spoken', 'spontan', 'spool', 'spoon', 'sport', 'sporti', 'sportiv', 'sportsman', 'spose', 'spot', 'spotless', 'spout', 'spouter', 'spouthol', 'sprain', 'sprang', 'sprat', 'sprawl', 'spray', 'spread', 'spring', 'springi', 'sprinkl', 'sprout', 'sprung', 'spur', 'spurn', 'spurzheim', 'squadron', 'squall', 'squalli', 'squar', 'squash', 'squat', 'squaw', 'squeez', 'squid', 'squilge', 'squint', 'squir', 'squitchi', 'st', 'stab', 'stack', 'staff', 'stage', 'stagger', 'staggeringli', 'stagnant', 'staid', 'stain', 'stair', 'stake', 'stalk', 'stall', 'stalwart', 'stammer', 'stamp', 'stampedo', 'stand', 'standard', 'stander', 'standest', 'standpoint', 'stanza', 'stapl', 'star', 'starboard', 'starbuck', 'stare', 'stark', 'starlight', 'starri', 'start', 'startl', 'startlingli', 'starv', 'starvat', 'stash', 'state', 'stateliest', 'statement', 'station', 'stationari', 'statist', 'statu', 'statur', 'statutori', 'staunch', 'stave', 'stay', 'stead', 'steadfast', 'steadfastli', 'steadi', 'steadili', 'steak', 'steal', 'stealthili', 'steam', 'steamer', 'steed', 'steel', 'steelkilt', 'steep', 'steepl', 'steepli', 'steer', 'steerer', 'steersman', 'stem', 'step', 'stepmoth', 'stereotyp', 'stern', 'sternli', 'sternward', 'steward', 'stick', 'stiff', 'stiffen', 'stiffest', 'stiffli', 'stifl', 'stig', 'stigg', 'stigma', 'stiletto', 'still', 'stilli', 'stilt', 'sting', 'stingi', 'stir', 'stitch', 'stiver', 'stock', 'stocking', 'stoic', 'stoker', 'stole', 'stolen', 'stolid', 'stolidli', 'stomach', 'stone', 'stoneless', 'stood', 'stool', 'stoop', 'stoopingli', 'stop', 'storag', 'store', 'stori', 'storm', 'stormi', 'stout', 'stoutest', 'stoutli', 'stove', 'stoven', 'stow', 'stowag', 'stowaway', 'straddl', 'strafford', 'straggl', 'straight', 'straighten', 'straightway', 'strain', 'strait', 'strand', 'strang', 'stranger', 'strangest', 'strap', 'strata', 'stratagem', 'straw', 'strawberri', 'stray', 'streak', 'stream', 'streamer', 'street', 'strello', 'strength', 'strenuou', 'stress', 'stretch', 'strewn', 'stricken', 'strict', 'strictest', 'strictli', 'stride', 'strife', 'strike', 'strikingli', 'string', 'stringi', 'strip', 'stript', 'strive', 'striven', 'strivest', 'stroke', 'stroll', 'strong', 'stronger', 'strongest', 'stronghold', 'strongli', 'strove', 'struck', 'structur', 'struggl', 'strung', 'strut', 'stub', 'stubb', 'stubbl', 'stubborn', 'stubbornest', 'stubbornli', 'stuck', 'stud', 'student', 'studi', 'studiou', 'stuf', 'stuff', 'stultifi', 'stumbl', 'stump', 'stun', 'stung', 'stunsail', 'stupid', 'stupidli', 'stupor', 'sturgeon', 'style', 'stylit', 'su', 'sub', 'subaltern', 'subdivid', 'subdivis', 'subdu', 'subject', 'sublim', 'submarin', 'submerg', 'submiss', 'submit', 'subordin', 'subscrib', 'subsequ', 'subserv', 'subservi', 'subsid', 'subsist', 'substanc', 'substant', 'substanti', 'substitut', 'subterran', 'subterranean', 'subtil', 'subtilti', 'subtl', 'subtler', 'subtlest', 'subtleti', 'subtli', 'subtract', 'suburb', 'suburban', 'succe', 'succeed', 'success', 'succor', 'succourless', 'such', 'suck', 'suckingli', 'suckl', 'suction', 'sud', 'sudden', 'suddenli', 'suffer', 'suffic', 'suffici', 'sufficit', 'suffoc', 'suffus', 'suffusingli', 'sugari', 'suggest', 'suicid', 'suit', 'suitabl', 'sulk', 'sulki', 'sullen', 'sullenli', 'sulphur', 'sultan', 'sultri', 'sum', 'sumatra', 'summari', 'summer', 'summit', 'summon', 'sun', 'sunbeam', 'sunda', 'sunday', 'sunder', 'sundri', 'sung', 'sunk', 'sunken', 'sunlight', 'sunni', 'sunniest', 'sunris', 'sunset', 'sunshin', 'sunward', 'sup', 'superadd', 'superb', 'superfici', 'superflu', 'superhuman', 'superincumb', 'superinduc', 'superior', 'superl', 'supern', 'supernatur', 'supersed', 'superstit', 'superstiti', 'supervis', 'supin', 'supper', 'supperless', 'supplant', 'supplement', 'supplementari', 'suppli', 'supplic', 'support', 'suppos', 'supposit', 'suppress', 'suprem', 'supremaci', 'surcoat', 'sure', 'surest', 'surf', 'surfac', 'surg', 'surgeon', 'surli', 'surmis', 'surpass', 'surpassingli', 'surplu', 'surpris', 'surrend', 'surrenderest', 'surround', 'surroundingli', 'surtout', 'surveil', 'survey', 'surveyor', 'surviv', 'survivor', 'susan', 'suscept', 'suspect', 'suspend', 'suspens', 'suspici', 'suspicion', 'sustain', 'susten', 'sw', 'swackhamm', 'swagger', 'swain', 'swaller', 'swallow', 'swam', 'swamp', 'swap', 'swarm', 'swart', 'swarthi', 'swash', 'swath', 'sway', 'swear', 'sweat', 'swede', 'swedish', 'sweep', 'sweeper', 'sweet', 'sweeten', 'sweeter', 'sweetest', 'sweetheart', 'sweetli', 'swell', 'swept', 'swerv', 'swift', 'swiftest', 'swiftli', 'swim', 'swimmer', 'swindl', 'swing', 'swiss', 'switch', 'swoop', 'sword', 'swordsman', 'swore', 'sworn', 'swum', 'swung', 'sydney', 'sylla', 'syllabl', 'sylph', 'symbol', 'symmetr', 'symmetri', 'sympathet', 'sympathi', 'symphoni', 'symptom', 'synod', 'syracus', 'syren', 'syrian', 'system', 'systemat', 't', 'tabernacl', 'tabl', 'tableau', 'tablecloth', 'tablet', 'tacit', 'tack', 'tackl', 'taffrail', 'tag', 'tahitan', 'tahiti', 'tahitian', 'tail', 'taint', 'take', 'taken', 'talbot', 'tale', 'talisman', 'talk', 'talkest', 'tall', 'taller', 'tallest', 'talli', 'tallow', 'talon', 'talu', 'tambourin', 'tame', 'tamerlan', 'tan', 'tanaquil', 'tandem', 'tangl', 'tantal', 'tantamount', 'tap', 'tape', 'taper', 'tar', 'tarnish', 'tarpaulin', 'tarquin', 'tarri', 'tarshish', 'tarsu', 'tart', 'tartar', 'tartarean', 'tartarian', 'tash', 'tashtego', 'task', 'tassel', 'tast', 'tastin', 'tat', 'tatter', 'tattoo', 'taught', 'taunt', 'tauntingli', 'tauru', 'tawn', 'tawni', 'te', 'tea', 'teach', 'teak', 'tear', 'tearin', 'tearingli', 'tearless', 'teat', 'technic', 'tediou', 'tee', 'teenth', 'teeter', 'teeth', 'tekel', 'telegraph', 'telescop', 'tell', 'tellest', 'tellin', 'temper', 'temperatur', 'tempest', 'tempestu', 'templ', 'temporari', 'temporarili', 'tempt', 'temptat', 'ten', 'tend', 'tendenc', 'tender', 'tenderli', 'tendin', 'tendon', 'tendril', 'tenement', 'teneriff', 'tennesse', 'tenpin', 'tens', 'tension', 'tent', 'tenth', 'tepid', 'term', 'termin', 'terra', 'terrac', 'terrapin', 'terraqu', 'terribl', 'terrier', 'terrif', 'terrifi', 'territori', 'terror', 'terrorem', 'ters', 'tertiari', 'test', 'testament', 'tester', 'testifi', 'testili', 'testimoni', 'teter', 'tether', 'texa', 'texel', 'text', 'textur', 'thame', 'than', 'thank', 'thankless', 'thar', 'that', 'thaw', 'the', 'theatr', 'thee', 'their', 'them', 'theme', 'themselv', 'then', 'thenc', 'thenceforth', 'theolog', 'theoret', 'theori', 'there', 'thereabout', 'therebi', 'therefor', 'therein', 'thereof', 'thereupon', 'therm', 'thermomet', 'these', 'thew', 'they', 'thi', 'thick', 'thicken', 'thicker', 'thickest', 'thicket', 'thickli', 'thief', 'thiev', 'thigh', 'thimbl', 'thin', 'thine', 'thing', 'think', 'thinker', 'thinkest', 'thinner', 'thinnest', 'third', 'thirdli', 'thirstili', 'thirteen', 'thirteenth', 'thirti', 'thistl', 'thither', 'tho', 'thole', 'thoma', 'thorkil', 'thorn', 'thorough', 'thoroughfar', 'thoroughli', 'those', 'thou', 'though', 'thought', 'thoughtless', 'thousand', 'thousandth', 'thrash', 'thrasher', 'thread', 'threadbar', 'threat', 'threaten', 'three', 'threepenc', 'threshold', 'threw', 'thrice', 'thrill', 'thrive', 'thro', 'throat', 'throb', 'throe', 'throne', 'throng', 'throttl', 'through', 'throughout', 'throw', 'thrown', 'thrust', 'thu', 'thumb', 'thump', 'thunder', 'thunderbolt', 'thwack', 'thwart', 'thyself', 'ti', 'tiara', 'tic', 'tick', 'tickl', 'ticklish', 'tide', 'tideless', 'tidi', 'tidiest', 'tie', 'tier', 'tierc', 'tiger', 'tight', 'tighten', 'tightli', 'tigress', 'tigri', 'til', 'tilburi', 'tile', 'till', 'tiller', 'tilt', 'timber', 'timberhead', 'time', 'timeliest', 'timid', 'timor', 'tin', 'tinder', 'ting', 'tingl', 'tini', 'tink', 'tinker', 'tinkl', 'tint', 'tip', 'tisburi', 'tish', 'tissu', 'tistig', 'tit', 'titan', 'tith', 'titl', 'to', 'toad', 'toadstool', 'toast', 'tobacco', 'today', 'toddi', 'toder', 'toe', 'tog', 'togeth', 'toil', 'toilet', 'toilett', 'token', 'told', 'toler', 'toll', 'tolland', 'tom', 'tomahawk', 'tomb', 'tombston', 'tomorrow', 'ton', 'tone', 'tong', 'tongatobooarr', 'tongu', 'tongueless', 'tonic', 'too', 'took', 'tool', 'tooth', 'toothach', 'toothless', 'toothpick', 'top', 'toper', 'tophet', 'topic', 'topmaul', 'topmost', 'toppl', 'topsail', 'torch', 'tore', 'torment', 'tormentoto', 'torn', 'tornado', 'torpid', 'torrent', 'torrid', 'torso', 'tortois', 'tortur', 'toss', 'tost', 'total', 'touch', 'touchest', 'touchi', 'tough', 'tougher', 'toughest', 'tow', 'toward', 'tower', 'town', 'toy', 'trace', 'traceabl', 'traceri', 'track', 'trackless', 'tract', 'trade', 'tradit', 'trafalgar', 'tragedi', 'tragic', 'trail', 'train', 'trait', 'traitor', 'tramp', 'trampl', 'tran', 'tranc', 'tranqu', 'tranquil', 'tranquilli', 'tranquo', 'transact', 'transcend', 'transcendent', 'transcrib', 'transfer', 'transferringli', 'transfigur', 'transfix', 'transfixedli', 'transform', 'transient', 'transit', 'translat', 'transom', 'transpar', 'transpir', 'transplant', 'transpoint', 'transport', 'trap', 'trapper', 'travel', 'travers', 'tray', 'treacher', 'treacheri', 'tread', 'treadl', 'treasur', 'treasuri', 'treat', 'treatis', 'trebl', 'trebli', 'tree', 'trellis', 'trembl', 'tremend', 'tremor', 'tremul', 'trencher', 'trend', 'trepid', 'tri', 'trial', 'triangl', 'triangular', 'triangularli', 'tribe', 'tribul', 'tribut', 'trick', 'trifl', 'trim', 'triniti', 'trio', 'trip', 'tripli', 'tripod', 'triumph', 'triumphal', 'triumphant', 'triumphantli', 'triun', 'trivial', 'trod', 'trodden', 'troil', 'troop', 'trope', 'trophi', 'tropic', 'trot', 'troubl', 'troubledli', 'troublesom', 'trough', 'trover', 'trowser', 'truce', 'truck', 'trudg', 'true', 'truer', 'truest', 'truli', 'trump', 'trumpa', 'trumpet', 'trunk', 'trust', 'trustworthi', 'truth', 'trysail', 'tu', 'tub', 'tube', 'tuck', 'tudor', 'tuft', 'tug', 'tuileri', 'tulip', 'tumbl', 'tumbler', 'tumult', 'tumultu', 'tun', 'tune', 'tunic', 'tunnel', 'turban', 'turbid', 'turbul', 'turf', 'turk', 'turkey', 'turkish', 'turmoil', 'turn', 'turnpik', 'turnstil', 'turtl', 'tusk', 'tut', 'tutelari', 'tutor', 'twa', 'twain', 'tweezer', 'twelfth', 'twelv', 'twelvemonth', 'twenti', 'twice', 'twig', 'twilight', 'twill', 'twin', 'twine', 'twinkl', 'twisk', 'twist', 'twitch', 'two', 'twopenc', 'tyerman', 'type', 'typhoon', 'typifi', 'tyrann', 'tyrant', 'tyre', 'tyro', 'u', 'ubiqu', 'ubiquit', 'ugli', 'ugliest', 'ulcer', 'ulloa', 'ultim', 'ultimatum', 'um', 'umbil', 'umbrella', 'unab', 'unaccompani', 'unaccount', 'unaccustom', 'unachiev', 'unaid', 'unalloy', 'unalter', 'unanswer', 'unappal', 'unappar', 'unappeas', 'unappeasedli', 'unapprehens', 'unappropri', 'unassail', 'unassum', 'unassur', 'unastonish', 'unattend', 'unavoid', 'unaw', 'unawar', 'unbecoming', 'unbegotten', 'unbegun', 'unbelief', 'unbent', 'unbias', 'unbidden', 'unbiddenli', 'unblinkingli', 'unbodi', 'unborn', 'unborrow', 'unbound', 'unbroken', 'unbuckl', 'unbutton', 'uncanon', 'uncaptur', 'uncatastrophi', 'unceas', 'unceasingli', 'unceremoni', 'uncertain', 'unchalleng', 'unchang', 'unchart', 'uncheer', 'unchristian', 'uncivil', 'uncl', 'unclad', 'uncleanli', 'uncloud', 'uncomfort', 'uncommon', 'uncommonli', 'uncomplet', 'uncompromis', 'uncompromised', 'unconclud', 'uncondit', 'unconqu', 'unconquer', 'unconsci', 'unconsum', 'uncontamin', 'uncontin', 'uncork', 'uncount', 'uncouth', 'uncrack', 'unctuou', 'unctuous', 'undash', 'undaunt', 'undecay', 'undecid', 'undecipher', 'undecreas', 'undefil', 'undeliver', 'undeni', 'under', 'undergradu', 'underground', 'underiv', 'underl', 'underneath', 'understand', 'understood', 'undertak', 'undertaken', 'undervalu', 'underw', 'underwrit', 'undet', 'undetach', 'undetect', 'undevelop', 'undevi', 'undigest', 'undignifi', 'undilut', 'undiscern', 'undiscov', 'undiscover', 'undiscrimin', 'undisput', 'undivid', 'undon', 'undoubt', 'undoubtedli', 'undrap', 'undress', 'undu', 'undul', 'unduli', 'unearth', 'unearthli', 'uneasi', 'unendur', 'unenerv', 'unensanguin', 'unent', 'unequ', 'uner', 'unerringli', 'unev', 'uneven', 'unexagger', 'unexampl', 'unexempt', 'unexhaust', 'unexhilar', 'unexpect', 'unexpectedli', 'unextinguish', 'unfail', 'unfair', 'unfallen', 'unfalt', 'unfamiliar', 'unfath', 'unfathom', 'unfavour', 'unfear', 'unfeatur', 'unfinish', 'unfit', 'unflatt', 'unflinch', 'unfold', 'unforgiven', 'unforseen', 'unfort', 'unfortun', 'unfract', 'unfrequ', 'unfriendli', 'unfulfil', 'unfurl', 'unfurnish', 'ungainli', 'ungarnish', 'ungentlemanli', 'ungodli', 'ungovern', 'ungraci', 'ungradu', 'ungrasp', 'ungrat', 'unhappi', 'unharm', 'unhaunt', 'unheal', 'unheed', 'unhesitatingli', 'unhing', 'unhint', 'unholi', 'unhoop', 'unhors', 'unicorn', 'uniform', 'uniformli', 'unillumin', 'unimagin', 'unimpress', 'uninhabit', 'uninjur', 'unintegr', 'unintellig', 'unintermit', 'uninterpenetratingli', 'uninterrupt', 'uninvitedli', 'union', 'uniqu', 'unit', 'univers', 'unknow', 'unknown', 'unlac', 'unless', 'unlett', 'unlight', 'unlik', 'unlimb', 'unlimit', 'unload', 'unlock', 'unloit', 'unman', 'unmanag', 'unmanifest', 'unmannerli', 'unmanufactur', 'unmar', 'unmatch', 'unmeaningli', 'unmeasur', 'unmention', 'unmerit', 'unmethod', 'unmind', 'unmisgiv', 'unmistak', 'unmitig', 'unmix', 'unmolest', 'unmoment', 'unmoor', 'unmurmuringli', 'unnam', 'unnatur', 'unnear', 'unnecessari', 'unneed', 'uno', 'unobserv', 'unobstruct', 'unobtrus', 'unoccupi', 'unoffici', 'unostentati', 'unoutgrown', 'unpaint', 'unpanel', 'unparticip', 'unpiti', 'unpleas', 'unpoet', 'unpollut', 'unpreced', 'unprecedentedli', 'unprejud', 'unprepar', 'unprincipl', 'unprofession', 'unprofit', 'unprovid', 'unpublish', 'unquestion', 'unquiet', 'unread', 'unreason', 'unreck', 'unrecord', 'unrel', 'unreli', 'unreliev', 'unreluctantli', 'unremov', 'unrest', 'unrestingli', 'unretrac', 'unreverenc', 'unrifl', 'unrig', 'unright', 'unrival', 'unrol', 'unrustlingli', 'unsaf', 'unsaid', 'unsavori', 'unsay', 'unscath', 'unscientif', 'unscrew', 'unscrupul', 'unseal', 'unseamanlik', 'unseason', 'unseen', 'unset', 'unsettl', 'unsheath', 'unshor', 'unshorn', 'unshun', 'unsightli', 'unsignifi', 'unskil', 'unsleep', 'unsmooth', 'unsoci', 'unsolicit', 'unsolv', 'unsophist', 'unsound', 'unsourc', 'unspeak', 'unspeckl', 'unsplinter', 'unspoken', 'unspot', 'unstagg', 'unstak', 'unstarch', 'unstir', 'unstrand', 'unstreak', 'unstricken', 'unsubdu', 'unsubstanti', 'unsuccess', 'unsuffus', 'unsulli', 'unsuppli', 'unsuppress', 'unsurrend', 'unsurrender', 'unsuspect', 'unsweetli', 'untag', 'untaint', 'untast', 'untattoo', 'unthink', 'unthinkingli', 'unthought', 'untidi', 'until', 'untim', 'unto', 'untold', 'untott', 'untouch', 'untoward', 'untrac', 'untrack', 'untradit', 'untravel', 'untri', 'untrodden', 'untutor', 'unus', 'unusu', 'unvari', 'unverdur', 'unvex', 'unviti', 'unwan', 'unwarp', 'unwarr', 'unwarrant', 'unweari', 'unwed', 'unwelcom', 'unwieldi', 'unwil', 'unwilling', 'unwilt', 'unwind', 'unwink', 'unwithdrawn', 'unwittingli', 'unwont', 'unworship', 'unworthi', 'unwound', 'unwritten', 'unyield', 'up', 'upbraid', 'upbubbl', 'upcast', 'upharsin', 'upheav', 'upheld', 'uphold', 'uplift', 'upon', 'upper', 'uppermost', 'uprais', 'upright', 'upris', 'uproar', 'upsid', 'upstair', 'upward', 'upwardli', 'urban', 'urchin', 'urg', 'urgent', 'urn', 'us', 'usag', 'use', 'useless', 'usher', 'usual', 'usurp', 'util', 'utilitarian', 'utmost', 'utter', 'utterli', 'uttermost', 'utton', 'v', 'vacanc', 'vacant', 'vacantli', 'vacat', 'vacil', 'vacuiti', 'vacuum', 'vagabond', 'vagrant', 'vagu', 'vain', 'vainli', 'vale', 'valiant', 'valiantli', 'valis', 'valley', 'valor', 'valour', 'valparaiso', 'valu', 'valuabl', 'valv', 'valvular', 'van', 'vancouv', 'vane', 'vanish', 'vaniti', 'vanquish', 'vapour', 'vapouri', 'vari', 'varieti', 'variou', 'various', 'vase', 'vassal', 'vast', 'vastli', 'vat', 'vatican', 'vault', 've', 'veal', 'veda', 'veer', 'vehement', 'vehicl', 'veil', 'vein', 'veloc', 'velvet', 'vendom', 'vener', 'venetian', 'venetianli', 'veng', 'vengeanc', 'venic', 'venison', 'vent', 'ventil', 'ventricl', 'ventur', 'verac', 'veraci', 'verbal', 'verbalist', 'verbatim', 'verd', 'verdant', 'verdigri', 'verdur', 'veri', 'veriest', 'verif', 'verili', 'verit', 'veriti', 'vermicelli', 'vermillion', 'vermont', 'vernacular', 'vernal', 'vero', 'vers', 'versa', 'versail', 'version', 'vertebra', 'vertic', 'vertu', 'vesper', 'vessel', 'vest', 'vestibul', 'vestig', 'vestur', 'vesuviu', 'veteran', 'vex', 'vexati', 'vi', 'via', 'vial', 'vibrat', 'vicar', 'vicari', 'vice', 'viceroy', 'vicin', 'vicious', 'vicissitud', 'victim', 'victor', 'victori', 'vide', 'vidocq', 'view', 'vigil', 'vignett', 'vigor', 'viiith', 'vile', 'villa', 'villag', 'villain', 'villaini', 'villan', 'villani', 'vindic', 'vindict', 'vine', 'vinegar', 'vineyard', 'vintag', 'viol', 'violat', 'violenc', 'violent', 'violet', 'virgin', 'virginia', 'virgo', 'virtu', 'virtuou', 'visag', 'vishnoo', 'vishnu', 'visibl', 'vision', 'visit', 'visitor', 'visual', 'vital', 'vitiat', 'vitu', 'vivac', 'vivaci', 'vivid', 'vividli', 'vivifi', 'vocabulari', 'vocat', 'voic', 'voicelessli', 'void', 'volatil', 'volcano', 'volit', 'volley', 'volum', 'volunt', 'voluntari', 'voluntarili', 'vomit', 'von', 'vorac', 'voraci', 'vortex', 'vortic', 'vote', 'voucher', 'vow', 'voyag', 'vultur', 'vum', 'w', 'wa', 'wad', 'wade', 'wafer', 'waft', 'wag', 'wage', 'wager', 'waggish', 'wagon', 'waif', 'wail', 'wainscot', 'waist', 'waistband', 'waistcoat', 'wait', 'waiter', 'waiv', 'wake', 'waken', 'wal', 'wale', 'walfish', 'walk', 'wall', 'wallen', 'waller', 'wallet', 'wallow', 'walnut', 'walru', 'walrus', 'walter', 'walw', 'wampum', 'wan', 'wand', 'wander', 'wandereth', 'wane', 'want', 'wantest', 'wanton', 'wantonli', 'wap', 'war', 'warbl', 'ward', 'warden', 'wardrob', 'warehous', 'warfar', 'wari', 'warlik', 'warm', 'warmer', 'warmest', 'warmli', 'warmth', 'warn', 'warningli', 'warp', 'warrant', 'warrantri', 'warringli', 'warrior', 'wash', 'washington', 'wasn', 'wasp', 'wast', 'wastingli', 'wat', 'watch', 'watcher', 'watchmak', 'watchman', 'watchmen', 'water', 'waterg', 'wateri', 'waterless', 'waterproof', 'waterspout', 'waterward', 'watt', 'wave', 'wavi', 'wavingli', 'wax', 'waxi', 'way', 'wayward', 'we', 'weak', 'weaken', 'weaker', 'weakl', 'weakli', 'weal', 'wealth', 'wealthi', 'wealthiest', 'weapon', 'wear', 'wearer', 'weari', 'weariest', 'wearili', 'wearisom', 'weasel', 'weather', 'weav', 'weaver', 'weazel', 'web', 'webster', 'wed', 'wedder', 'wedg', 'wee', 'weed', 'weedi', 'week', 'weekli', 'ween', 'weep', 'weepon', 'weigh', 'weight', 'weighti', 'weightiest', 'welcom', 'weld', 'well', 'wellington', 'welter', 'went', 'wept', 'were', 'weri', 'wert', 'west', 'wester', 'westerli', 'western', 'westward', 'wet', 'wetter', 'whale', 'whaleboat', 'whalebon', 'whaleman', 'whalemen', 'whaler', 'whaleship', 'whalesmen', 'whalin', 'whang', 'wharf', 'wharton', 'wharv', 'what', 'whatev', 'whatsoev', 'wheat', 'wheel', 'wheelbarrow', 'wheez', 'whelm', 'whelp', 'when', 'whenc', 'whenceso', 'whenev', 'where', 'wherea', 'whereat', 'wherebi', 'wherefor', 'wherein', 'whereof', 'whereon', 'whereso', 'whereto', 'whereupon', 'wherev', 'wherewith', 'whet', 'whether', 'whetston', 'whew', 'whi', 'which', 'whichev', 'whiff', 'while', 'whilst', 'whim', 'whimsi', 'whimsic', 'whip', 'whirl', 'whirlpool', 'whirlwind', 'whisker', 'whiskey', 'whisper', 'whisperingli', 'whist', 'whistl', 'whistlingli', 'whit', 'white', 'whitehal', 'whiten', 'whitest', 'whitewash', 'whither', 'whitish', 'whitsuntid', 'whittl', 'whizz', 'who', 'whoel', 'whoever', 'whole', 'wholesom', 'wholli', 'whom', 'whoop', 'whose', 'whosoev', 'wick', 'wicked', 'wid', 'wide', 'widen', 'widest', 'widow', 'width', 'wield', 'wife', 'wight', 'wigwam', 'wil', 'wild', 'wilder', 'wildest', 'wildli', 'will', 'willain', 'willi', 'william', 'willing', 'willingli', 'willoughbi', 'willow', 'wilt', 'winc', 'wind', 'windbound', 'windi', 'windlass', 'window', 'windpip', 'windrow', 'windsor', 'windward', 'wine', 'wing', 'wink', 'winnebago', 'winsom', 'winter', 'wintri', 'wipe', 'wire', 'wisdom', 'wise', 'wiseish', 'wisest', 'wish', 'wit', 'witch', 'witcheri', 'with', 'withal', 'withdraw', 'withdrawn', 'withdrew', 'wither', 'withhold', 'within', 'without', 'withstand', 'witt', 'witti', 'wive', 'woe', 'woebegon', 'woeful', 'wolf', 'wolfish', 'wolv', 'woman', 'womb', 'women', 'won', 'wonder', 'wonderfullest', 'wonderingli', 'wondrou', 'wondrous', 'wonst', 'wont', 'woo', 'wood', 'woodcock', 'wooden', 'woodi', 'woodland', 'woodpeck', 'woof', 'wool', 'woollen', 'woraci', 'word', 'wordless', 'wore', 'work', 'worker', 'workman', 'workmanlik', 'workmen', 'world', 'worldli', 'worm', 'worn', 'worri', 'wors', 'worship', 'worshipp', 'worst', 'worth', 'worthi', 'would', 'wouldn', 'wouldst', 'wound', 'woven', 'wrangl', 'wrap', 'wrapal', 'wrapper', 'wrapt', 'wrath', 'wreak', 'wreath', 'wreck', 'wrench', 'wrest', 'wrestl', 'wretch', 'wretchedli', 'wriggl', 'wring', 'wrinkl', 'wrist', 'writ', 'write', 'writer', 'writh', 'written', 'wrong', 'wrote', 'wrought', 'wrung', 'x', 'xerx', 'xvi', 'xxxix', 'y', 'yale', 'yanke', 'yard', 'yarman', 'yarn', 'yaw', 'yawingli', 'yawn', 'ye', 'yea', 'year', 'yearli', 'yeast', 'yell', 'yellow', 'yellowish', 'yesterday', 'yet', 'yield', 'yojo', 'yoke', 'yon', 'yonder', 'yore', 'york', 'yorkshir', 'you', 'young', 'younger', 'youngest', 'youngish', 'your', 'yourselb', 'yourself', 'yourselv', 'youth', 'zag', 'zay', 'zeal', 'zealand', 'zephyr', 'zeuglodon', 'zig', 'zodiac', 'zogranda', 'zone', 'zoolog', 'zoroast']\n"
     ]
    }
   ],
   "source": [
    "print(sorted(set(t1_porter)))"
   ]
  },
  {
   "cell_type": "code",
   "execution_count": 48,
   "metadata": {},
   "outputs": [],
   "source": [
    "my_dist = FreqDist(text1_clean)"
   ]
  },
  {
   "cell_type": "code",
   "execution_count": 49,
   "metadata": {},
   "outputs": [
    {
     "data": {
      "text/plain": [
       "nltk.probability.FreqDist"
      ]
     },
     "execution_count": 49,
     "metadata": {},
     "output_type": "execute_result"
    }
   ],
   "source": [
    "type(my_dist)"
   ]
  },
  {
   "cell_type": "code",
   "execution_count": 50,
   "metadata": {},
   "outputs": [
    {
     "data": {
      "image/png": "[encoded data removed]",
      "text/plain": [
       "<Figure size 432x288 with 1 Axes>"
      ]
     },
     "metadata": {
      "needs_background": "light"
     },
     "output_type": "display_data"
    },
    {
     "data": {
      "text/plain": [
       "<matplotlib.axes._subplots.AxesSubplot at 0x2aa2329c108>"
      ]
     },
     "execution_count": 50,
     "metadata": {},
     "output_type": "execute_result"
    }
   ],
   "source": [
    "my_dist.plot(20)"
   ]
  },
  {
   "cell_type": "code",
   "execution_count": 51,
   "metadata": {},
   "outputs": [
    {
     "data": {
      "text/plain": [
       "[('whale', 1494),\n",
       " ('one', 940),\n",
       " ('like', 650),\n",
       " ('ship', 605),\n",
       " ('upon', 566),\n",
       " ('sea', 542),\n",
       " ('man', 527),\n",
       " ('ahab', 512),\n",
       " ('boat', 483),\n",
       " ('ye', 472),\n",
       " ('old', 450),\n",
       " ('time', 446),\n",
       " ('would', 432),\n",
       " ('head', 431),\n",
       " ('though', 384),\n",
       " ('captain', 353),\n",
       " ('yet', 345),\n",
       " ('hand', 344),\n",
       " ('long', 333),\n",
       " ('thing', 320)]"
      ]
     },
     "execution_count": 51,
     "metadata": {},
     "output_type": "execute_result"
    }
   ],
   "source": [
    "my_dist.most_common(20)"
   ]
  },
  {
   "cell_type": "code",
   "execution_count": 52,
   "metadata": {},
   "outputs": [],
   "source": [
    "b_words = ['god', 'apostle', 'angel']"
   ]
  },
  {
   "cell_type": "code",
   "execution_count": 53,
   "metadata": {},
   "outputs": [],
   "source": [
    "my_list = [] \n",
    "for word in b_words: \n",
    "    if word in text1_clean: \n",
    "        my_list.append(word) \n",
    "    else: \n",
    "        pass"
   ]
  },
  {
   "cell_type": "code",
   "execution_count": 54,
   "metadata": {},
   "outputs": [],
   "source": [
    "from urllib.request import urlopen\n",
    "my_url = \"http://www.gutenberg.org/files/996/996-0.txt\""
   ]
  },
  {
   "cell_type": "code",
   "execution_count": 55,
   "metadata": {},
   "outputs": [],
   "source": [
    "file = urlopen(my_url)\n",
    "raw = file.read()"
   ]
  },
  {
   "cell_type": "code",
   "execution_count": 56,
   "metadata": {},
   "outputs": [],
   "source": [
    "don=raw.decode()"
   ]
  },
  {
   "cell_type": "code",
   "execution_count": 57,
   "metadata": {},
   "outputs": [
    {
     "data": {
      "text/plain": [
       "str"
      ]
     },
     "execution_count": 57,
     "metadata": {},
     "output_type": "execute_result"
    }
   ],
   "source": [
    "type(don)"
   ]
  },
  {
   "cell_type": "code",
   "execution_count": 58,
   "metadata": {},
   "outputs": [],
   "source": [
    "don_tokens = nltk.word_tokenize(don)"
   ]
  },
  {
   "cell_type": "code",
   "execution_count": 59,
   "metadata": {},
   "outputs": [
    {
     "data": {
      "text/plain": [
       "498720"
      ]
     },
     "execution_count": 59,
     "metadata": {},
     "output_type": "execute_result"
    }
   ],
   "source": [
    "len(don_tokens)"
   ]
  },
  {
   "cell_type": "code",
   "execution_count": 60,
   "metadata": {},
   "outputs": [
    {
     "data": {
      "text/plain": [
       "['The',\n",
       " 'Project',\n",
       " 'Gutenberg',\n",
       " 'EBook',\n",
       " 'of',\n",
       " 'The',\n",
       " 'History',\n",
       " 'of',\n",
       " 'Don',\n",
       " 'Quixote']"
      ]
     },
     "execution_count": 60,
     "metadata": {},
     "output_type": "execute_result"
    }
   ],
   "source": [
    "don_tokens[:10]"
   ]
  },
  {
   "cell_type": "code",
   "execution_count": 61,
   "metadata": {},
   "outputs": [],
   "source": [
    "dq_text = don_tokens[315:]"
   ]
  },
  {
   "cell_type": "code",
   "execution_count": 62,
   "metadata": {},
   "outputs": [],
   "source": [
    "dq_nltk_text = nltk.Text(dq_text)"
   ]
  },
  {
   "cell_type": "code",
   "execution_count": 63,
   "metadata": {},
   "outputs": [
    {
     "name": "stdout",
     "output_type": "stream",
     "text": [
      "['full', 'size', 'contents', 'volume', 'chapter', 'treats', 'character', 'pursuits', 'famous', 'gentleman', 'quixote', 'la', 'mancha', 'chapter', 'ii', 'treats', 'first', 'sally', 'ingenious', 'quixote', 'made', 'home', 'chapter', 'iii', 'wherein', 'related', 'droll', 'way', 'quixote', 'dubbed', 'knight', 'chapter', 'iv', 'happened', 'knight', 'left', 'inn', 'chapter', 'v', 'narrative', 'knight', 'mishap', 'continued', 'chapter', 'vi', 'diverting', 'important', 'scrutiny', 'curate', 'barber']\n"
     ]
    }
   ],
   "source": [
    "dq_clean = []\n",
    "for w in dq_text:\n",
    "    if w.isalpha():\n",
    "        if w.lower() not in stops:\n",
    "            dq_clean.append(w.lower())\n",
    "print(dq_clean[:50])"
   ]
  },
  {
   "cell_type": "code",
   "execution_count": 64,
   "metadata": {},
   "outputs": [],
   "source": [
    "from nltk.stem import WordNetLemmatizer\n",
    "wordnet_lemmatizer = WordNetLemmatizer()\n",
    "\n",
    "dq_lemmatized = []\n",
    "for t in dq_clean:\n",
    "    dq_lemmatized.append(wordnet_lemmatizer.lemmatize(t))"
   ]
  },
  {
   "cell_type": "code",
   "execution_count": 65,
   "metadata": {},
   "outputs": [],
   "source": [
    "dq_tagged = nltk.pos_tag(dq_text)"
   ]
  },
  {
   "cell_type": "code",
   "execution_count": 66,
   "metadata": {},
   "outputs": [
    {
     "name": "stdout",
     "output_type": "stream",
     "text": [
      "[('Full', 'NNP'), ('Size', 'NNP'), ('CONTENTS', 'NNP'), ('VOLUME', 'NNP'), ('I', 'PRP'), ('CHAPTER', 'NNP'), ('I', 'PRP'), ('WHICH', 'VBP'), ('TREATS', 'NNP'), ('OF', 'IN')]\n"
     ]
    }
   ],
   "source": [
    "print(dq_tagged[:10])"
   ]
  },
  {
   "cell_type": "code",
   "execution_count": 67,
   "metadata": {},
   "outputs": [],
   "source": [
    "tag_dict = {}\n",
    "#for every word/tag combo in my list, \n",
    "for (word, tag) in dq_tagged:\n",
    "    if tag in tag_dict: \n",
    "        tag_dict[tag]+=1\n",
    "    else:\n",
    "        tag_dict[tag] = 1"
   ]
  },
  {
   "cell_type": "code",
   "execution_count": 68,
   "metadata": {},
   "outputs": [
    {
     "data": {
      "text/plain": [
       "{'NNP': 31840,\n",
       " 'PRP': 36100,\n",
       " 'VBP': 9658,\n",
       " 'IN': 57945,\n",
       " 'VBD': 23503,\n",
       " ',': 36910,\n",
       " 'CC': 22993,\n",
       " 'VB': 21198,\n",
       " 'MD': 7256,\n",
       " 'DT': 40778,\n",
       " ':': 6442,\n",
       " 'CD': 3108,\n",
       " 'VBZ': 8316,\n",
       " 'RP': 1916,\n",
       " 'JJ': 24445,\n",
       " 'NN': 62303,\n",
       " 'WP': 4157,\n",
       " 'NNS': 15271,\n",
       " 'RB': 20227,\n",
       " 'VBN': 10087,\n",
       " 'WDT': 3546,\n",
       " '.': 7119,\n",
       " 'EX': 1073,\n",
       " 'TO': 13801,\n",
       " 'PRP$': 12231,\n",
       " 'VBG': 7727,\n",
       " 'RBS': 253,\n",
       " 'JJS': 954,\n",
       " 'PDT': 1118,\n",
       " 'RBR': 655,\n",
       " 'JJR': 1294,\n",
       " 'FW': 381,\n",
       " '(': 574,\n",
       " ')': 574,\n",
       " 'WP$': 137,\n",
       " 'WRB': 2147,\n",
       " 'POS': 14,\n",
       " 'NNPS': 155,\n",
       " 'UH': 85,\n",
       " \"''\": 111,\n",
       " '$': 3}"
      ]
     },
     "execution_count": 68,
     "metadata": {},
     "output_type": "execute_result"
    }
   ],
   "source": [
    "tag_dict"
   ]
  },
  {
   "cell_type": "code",
   "execution_count": 69,
   "metadata": {},
   "outputs": [
    {
     "name": "stdout",
     "output_type": "stream",
     "text": [
      "[('NN', 62303), ('IN', 57945), ('DT', 40778), (',', 36910), ('PRP', 36100), ('NNP', 31840), ('JJ', 24445), ('VBD', 23503), ('CC', 22993), ('VB', 21198), ('RB', 20227), ('NNS', 15271), ('TO', 13801), ('PRP$', 12231), ('VBN', 10087), ('VBP', 9658), ('VBZ', 8316), ('VBG', 7727), ('MD', 7256), ('.', 7119), (':', 6442), ('WP', 4157), ('WDT', 3546), ('CD', 3108), ('WRB', 2147), ('RP', 1916), ('JJR', 1294), ('PDT', 1118), ('EX', 1073), ('JJS', 954), ('RBR', 655), ('(', 574), (')', 574), ('FW', 381), ('RBS', 253), ('NNPS', 155), ('WP$', 137), (\"''\", 111), ('UH', 85), ('POS', 14), ('$', 3)]\n"
     ]
    }
   ],
   "source": [
    "tag_dict_sorted = sorted(tag_dict.items(), reverse=True, key=lambda kv: kv[1])\n",
    "print(tag_dict_sorted)"
   ]
  },
  {
   "cell_type": "code",
   "execution_count": null,
   "metadata": {},
   "outputs": [],
   "source": []
  }
 ],
 "metadata": {
  "kernelspec": {
   "display_name": "Python 3",
   "language": "python",
   "name": "python3"
  },
  "language_info": {
   "codemirror_mode": {
    "name": "ipython",
    "version": 3
   },
   "file_extension": ".py",
   "mimetype": "text/x-python",
   "name": "python",
   "nbconvert_exporter": "python",
   "pygments_lexer": "ipython3",
   "version": "3.7.4"
  }
 },
 "nbformat": 4,
 "nbformat_minor": 2
}
